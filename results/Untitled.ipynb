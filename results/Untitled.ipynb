{
 "cells": [
  {
   "cell_type": "markdown",
   "metadata": {},
   "source": [
    "# Usage\n",
    "To replicate the analysis, clone this GitHub repository, install the dependencies listed below, and run the following commands at the command line/terminal from the root directory of this project:\n",
    "\n",
    "    # download data\n",
    "    python scripts/download.py --DATA_FILE_PATH=../data/vehicles.csv --DATA_FILE_URL=http://mds.dev.synnergia.com/uploads/vehicles.csv --DATA_FILE_HASH=06e7bd341eebef8e77b088d2d3c54585\n",
    "\n",
    "    # data wrangling\n",
    "    Rscript scripts/wrangling.R --DATA_FILE_PATH=../data/vehicles.csv --TRAIN_FILE_PATH=../data/vehicles_train.csv --TEST_FILE_PATH=../data/vehicles_test.csv --TARGET=price --REMOVE_OUTLIERS=YES --TRAIN_SIZE= 0.9\n",
    "    \n",
    "    # EDA \n",
    "    python scripts/eda.py --DATA_FILE_PATH=../data/vehicles_train.csv --EDA_FILE_PATH=../results/figures/\n",
    "\n",
    "    # Model fitting and testing\n",
    "    python scripts/train_model.py\n",
    "    python scripts/test_model.py \n",
    "    \n",
    "    \n",
    "# Dependencies\n",
    "\n",
    "\n",
    "- Python 3.7.3 and Python packages:\n",
    "    - altair==3.2.0\n",
    "    - selenium==3.141.0\n",
    "    - docopt==0.6.2\n",
    "    - pandas==0.24.2\n",
    "    - numpy==1.16.4\n",
    "    - statsmodel==0.10.0\n",
    "    - plotly==4.3.0\n",
    "    - scikit-learn==0.20.4\n",
    "    \n",
    "    \n",
    "- R version 3.6.1 and R packages:\n",
    "    - knitr==1.24\n",
    "    - docopt==0.6.1\n",
    "    - tidyverse==1.3.0\n",
    "    - readr==1.3.1\n"
   ]
  },
  {
   "cell_type": "code",
   "execution_count": null,
   "metadata": {},
   "outputs": [],
   "source": []
  }
 ],
 "metadata": {
  "kernelspec": {
   "display_name": "Python 3",
   "language": "python",
   "name": "python3"
  },
  "language_info": {
   "codemirror_mode": {
    "name": "ipython",
    "version": 3
   },
   "file_extension": ".py",
   "mimetype": "text/x-python",
   "name": "python",
   "nbconvert_exporter": "python",
   "pygments_lexer": "ipython3",
   "version": "3.7.3"
  }
 },
 "nbformat": 4,
 "nbformat_minor": 4
}
