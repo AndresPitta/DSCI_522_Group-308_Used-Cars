{
 "cells": [
  {
   "cell_type": "markdown",
   "metadata": {},
   "source": [
    "# Vehicle's Market Price - EDA"
   ]
  },
  {
   "cell_type": "markdown",
   "metadata": {},
   "source": [
    "This is the **E**xploratory **D**ata **A**nalysis for the vehicle's market price dataset. In this analysis, we are going to analyze the different variables of the model in relation to the vehicle's prices for a better understanding of the dataset.\n",
    "\n",
    "Here are the steps of the analysis:"
   ]
  },
  {
   "cell_type": "markdown",
   "metadata": {},
   "source": [
    "### Step 1 - Packages"
   ]
  },
  {
   "cell_type": "code",
   "execution_count": 1,
   "metadata": {},
   "outputs": [],
   "source": [
    "import pandas as pd\n",
    "import altair as alt\n",
    "import pandas_profiling\n",
    "from vega_datasets import data"
   ]
  },
  {
   "cell_type": "code",
   "execution_count": 2,
   "metadata": {},
   "outputs": [
    {
     "data": {
      "text/plain": [
       "DataTransformerRegistry.enable('default')"
      ]
     },
     "execution_count": 2,
     "metadata": {},
     "output_type": "execute_result"
    }
   ],
   "source": [
    "alt.data_transformers.disable_max_rows()"
   ]
  },
  {
   "cell_type": "markdown",
   "metadata": {},
   "source": [
    "### Step 2 - Data loading"
   ]
  },
  {
   "cell_type": "markdown",
   "metadata": {},
   "source": [
    "For this model we are using a dataset of vehicle prices downloaded from Austin Reese's public repository in [kaggle](https://www.kaggle.com/austinreese/craigslist-carstrucks-data)."
   ]
  },
  {
   "cell_type": "code",
   "execution_count": 3,
   "metadata": {},
   "outputs": [],
   "source": [
    "vehicles = pd.read_csv(\"../data/vehicles.csv\").drop(columns = ['description', 'county'])\n",
    "vehicles = vehicles.rename(columns = {\"lat\": \"latitude\", \"long\": \"longitude\"})"
   ]
  },
  {
   "cell_type": "markdown",
   "metadata": {},
   "source": [
    "### Step 3 - Dataset head"
   ]
  },
  {
   "cell_type": "code",
   "execution_count": 4,
   "metadata": {},
   "outputs": [
    {
     "data": {
      "text/html": [
       "<div>\n",
       "<style scoped>\n",
       "    .dataframe tbody tr th:only-of-type {\n",
       "        vertical-align: middle;\n",
       "    }\n",
       "\n",
       "    .dataframe tbody tr th {\n",
       "        vertical-align: top;\n",
       "    }\n",
       "\n",
       "    .dataframe thead th {\n",
       "        text-align: right;\n",
       "    }\n",
       "</style>\n",
       "<table border=\"1\" class=\"dataframe\">\n",
       "  <thead>\n",
       "    <tr style=\"text-align: right;\">\n",
       "      <th></th>\n",
       "      <th>id</th>\n",
       "      <th>url</th>\n",
       "      <th>region</th>\n",
       "      <th>region_url</th>\n",
       "      <th>price</th>\n",
       "      <th>year</th>\n",
       "      <th>manufacturer</th>\n",
       "      <th>model</th>\n",
       "      <th>condition</th>\n",
       "      <th>cylinders</th>\n",
       "      <th>...</th>\n",
       "      <th>transmission</th>\n",
       "      <th>vin</th>\n",
       "      <th>drive</th>\n",
       "      <th>size</th>\n",
       "      <th>type</th>\n",
       "      <th>paint_color</th>\n",
       "      <th>image_url</th>\n",
       "      <th>state</th>\n",
       "      <th>latitude</th>\n",
       "      <th>longitude</th>\n",
       "    </tr>\n",
       "  </thead>\n",
       "  <tbody>\n",
       "    <tr>\n",
       "      <th>0</th>\n",
       "      <td>7034441763</td>\n",
       "      <td>https://saltlakecity.craigslist.org/cto/d/salt...</td>\n",
       "      <td>salt lake city</td>\n",
       "      <td>https://saltlakecity.craigslist.org</td>\n",
       "      <td>17899</td>\n",
       "      <td>2012.0</td>\n",
       "      <td>volkswagen</td>\n",
       "      <td>golf r</td>\n",
       "      <td>excellent</td>\n",
       "      <td>4 cylinders</td>\n",
       "      <td>...</td>\n",
       "      <td>manual</td>\n",
       "      <td>WVWPF7AJ6CW316713</td>\n",
       "      <td>4wd</td>\n",
       "      <td>compact</td>\n",
       "      <td>hatchback</td>\n",
       "      <td>black</td>\n",
       "      <td>https://images.craigslist.org/00G0G_fTLDWM5Xyv...</td>\n",
       "      <td>ut</td>\n",
       "      <td>40.7372</td>\n",
       "      <td>-111.858</td>\n",
       "    </tr>\n",
       "    <tr>\n",
       "      <th>1</th>\n",
       "      <td>7034440610</td>\n",
       "      <td>https://saltlakecity.craigslist.org/ctd/d/sand...</td>\n",
       "      <td>salt lake city</td>\n",
       "      <td>https://saltlakecity.craigslist.org</td>\n",
       "      <td>0</td>\n",
       "      <td>2016.0</td>\n",
       "      <td>ford</td>\n",
       "      <td>f-150</td>\n",
       "      <td>excellent</td>\n",
       "      <td>NaN</td>\n",
       "      <td>...</td>\n",
       "      <td>automatic</td>\n",
       "      <td>1FTMF1EP3GKF13544</td>\n",
       "      <td>4wd</td>\n",
       "      <td>NaN</td>\n",
       "      <td>NaN</td>\n",
       "      <td>NaN</td>\n",
       "      <td>https://images.craigslist.org/00v0v_7Cu0buIofU...</td>\n",
       "      <td>ut</td>\n",
       "      <td>40.5881</td>\n",
       "      <td>-111.884</td>\n",
       "    </tr>\n",
       "    <tr>\n",
       "      <th>2</th>\n",
       "      <td>7034440588</td>\n",
       "      <td>https://saltlakecity.craigslist.org/ctd/d/sand...</td>\n",
       "      <td>salt lake city</td>\n",
       "      <td>https://saltlakecity.craigslist.org</td>\n",
       "      <td>46463</td>\n",
       "      <td>2015.0</td>\n",
       "      <td>gmc</td>\n",
       "      <td>sierra 1500</td>\n",
       "      <td>excellent</td>\n",
       "      <td>NaN</td>\n",
       "      <td>...</td>\n",
       "      <td>automatic</td>\n",
       "      <td>3GTU2WEC6FG228025</td>\n",
       "      <td>4wd</td>\n",
       "      <td>NaN</td>\n",
       "      <td>NaN</td>\n",
       "      <td>white</td>\n",
       "      <td>https://images.craigslist.org/01515_lPvJ9bfbdY...</td>\n",
       "      <td>ut</td>\n",
       "      <td>40.5881</td>\n",
       "      <td>-111.884</td>\n",
       "    </tr>\n",
       "    <tr>\n",
       "      <th>3</th>\n",
       "      <td>7034440546</td>\n",
       "      <td>https://saltlakecity.craigslist.org/ctd/d/sand...</td>\n",
       "      <td>salt lake city</td>\n",
       "      <td>https://saltlakecity.craigslist.org</td>\n",
       "      <td>0</td>\n",
       "      <td>2016.0</td>\n",
       "      <td>ford</td>\n",
       "      <td>f-150</td>\n",
       "      <td>excellent</td>\n",
       "      <td>NaN</td>\n",
       "      <td>...</td>\n",
       "      <td>automatic</td>\n",
       "      <td>1FTEX1EF6GKD25447</td>\n",
       "      <td>4wd</td>\n",
       "      <td>NaN</td>\n",
       "      <td>NaN</td>\n",
       "      <td>NaN</td>\n",
       "      <td>https://images.craigslist.org/00T0T_6Rjfp3NS4O...</td>\n",
       "      <td>ut</td>\n",
       "      <td>40.5881</td>\n",
       "      <td>-111.884</td>\n",
       "    </tr>\n",
       "    <tr>\n",
       "      <th>4</th>\n",
       "      <td>7034406932</td>\n",
       "      <td>https://saltlakecity.craigslist.org/ctd/d/evan...</td>\n",
       "      <td>salt lake city</td>\n",
       "      <td>https://saltlakecity.craigslist.org</td>\n",
       "      <td>49999</td>\n",
       "      <td>2018.0</td>\n",
       "      <td>ford</td>\n",
       "      <td>f-450</td>\n",
       "      <td>NaN</td>\n",
       "      <td>NaN</td>\n",
       "      <td>...</td>\n",
       "      <td>automatic</td>\n",
       "      <td>1FT8W4DT8GEA90427</td>\n",
       "      <td>4wd</td>\n",
       "      <td>NaN</td>\n",
       "      <td>pickup</td>\n",
       "      <td>white</td>\n",
       "      <td>https://images.craigslist.org/00W0W_8yIUwRBXXd...</td>\n",
       "      <td>ut</td>\n",
       "      <td>40.3744</td>\n",
       "      <td>-104.694</td>\n",
       "    </tr>\n",
       "  </tbody>\n",
       "</table>\n",
       "<p>5 rows × 23 columns</p>\n",
       "</div>"
      ],
      "text/plain": [
       "           id                                                url  \\\n",
       "0  7034441763  https://saltlakecity.craigslist.org/cto/d/salt...   \n",
       "1  7034440610  https://saltlakecity.craigslist.org/ctd/d/sand...   \n",
       "2  7034440588  https://saltlakecity.craigslist.org/ctd/d/sand...   \n",
       "3  7034440546  https://saltlakecity.craigslist.org/ctd/d/sand...   \n",
       "4  7034406932  https://saltlakecity.craigslist.org/ctd/d/evan...   \n",
       "\n",
       "           region                           region_url  price    year  \\\n",
       "0  salt lake city  https://saltlakecity.craigslist.org  17899  2012.0   \n",
       "1  salt lake city  https://saltlakecity.craigslist.org      0  2016.0   \n",
       "2  salt lake city  https://saltlakecity.craigslist.org  46463  2015.0   \n",
       "3  salt lake city  https://saltlakecity.craigslist.org      0  2016.0   \n",
       "4  salt lake city  https://saltlakecity.craigslist.org  49999  2018.0   \n",
       "\n",
       "  manufacturer        model  condition    cylinders  ... transmission  \\\n",
       "0   volkswagen       golf r  excellent  4 cylinders  ...       manual   \n",
       "1         ford        f-150  excellent          NaN  ...    automatic   \n",
       "2          gmc  sierra 1500  excellent          NaN  ...    automatic   \n",
       "3         ford        f-150  excellent          NaN  ...    automatic   \n",
       "4         ford        f-450        NaN          NaN  ...    automatic   \n",
       "\n",
       "                 vin drive     size       type paint_color  \\\n",
       "0  WVWPF7AJ6CW316713   4wd  compact  hatchback       black   \n",
       "1  1FTMF1EP3GKF13544   4wd      NaN        NaN         NaN   \n",
       "2  3GTU2WEC6FG228025   4wd      NaN        NaN       white   \n",
       "3  1FTEX1EF6GKD25447   4wd      NaN        NaN         NaN   \n",
       "4  1FT8W4DT8GEA90427   4wd      NaN     pickup       white   \n",
       "\n",
       "                                           image_url state latitude longitude  \n",
       "0  https://images.craigslist.org/00G0G_fTLDWM5Xyv...    ut  40.7372  -111.858  \n",
       "1  https://images.craigslist.org/00v0v_7Cu0buIofU...    ut  40.5881  -111.884  \n",
       "2  https://images.craigslist.org/01515_lPvJ9bfbdY...    ut  40.5881  -111.884  \n",
       "3  https://images.craigslist.org/00T0T_6Rjfp3NS4O...    ut  40.5881  -111.884  \n",
       "4  https://images.craigslist.org/00W0W_8yIUwRBXXd...    ut  40.3744  -104.694  \n",
       "\n",
       "[5 rows x 23 columns]"
      ]
     },
     "execution_count": 4,
     "metadata": {},
     "output_type": "execute_result"
    }
   ],
   "source": [
    "vehicles.head()"
   ]
  },
  {
   "cell_type": "markdown",
   "metadata": {},
   "source": [
    "### Step 4 - Data Description"
   ]
  },
  {
   "cell_type": "markdown",
   "metadata": {},
   "source": [
    "In this dataset we have 17 categorical variables and 7 numerical variables, with the following description:\n",
    "\n",
    "**Categorical variables:**\n",
    "- `URL`: The url of the listing on Craiglist\n",
    "- `Region`: Region where the listing was posted\n",
    "- `region_url`: Craiglist's Region URL \n",
    "- `manufacturer`: Vehicle manufacturer\n",
    "- `model`: Vehicle model\n",
    "- `condition`: Vehicle condition according to the user (eg. 'excellent', 'like new')\n",
    "- `cylinders`: Number of cylinders of the vehicle\n",
    "- `fuel`: Vehicle fuel type\n",
    "- `title_status`: Status of the vehicle (eg. 'rebuilt', 'clean')\n",
    "- `transmission`: Transmission of the vehicle\n",
    "- `vin`: VIN number of the vehicle\n",
    "- `drive`: type of drive of the vehicle (eg. '4wd', 'fwd')\n",
    "- `size`: Size of the vehicle\n",
    "- `type`: Type of the vehicle (eg. 'SUV', 'pickup', 'sedan')\n",
    "- `paint_color`: Color of the paint of the vehicle\n",
    "- `image_url`: URL of the picture of the vehicle\n",
    "- `state`: State where the listing is posted\n",
    "\n",
    "**Numerical variables:**\n",
    "- `id`: id of the listing\n",
    "- `year`: vehicle's manufacturing year\n",
    "- `price`: **Response**, price of the vehicle\n",
    "- `odometer`: Mileage of the vehicle at the moment the listing was posted\n",
    "- `latitude`: Latitude of the state\n",
    "- `longitude`: Longitude of the state\n",
    "\n",
    "The following code shows the variables and its non-null count"
   ]
  },
  {
   "cell_type": "code",
   "execution_count": 5,
   "metadata": {},
   "outputs": [
    {
     "name": "stdout",
     "output_type": "stream",
     "text": [
      "<class 'pandas.core.frame.DataFrame'>\n",
      "RangeIndex: 509577 entries, 0 to 509576\n",
      "Data columns (total 23 columns):\n",
      "id              509577 non-null int64\n",
      "url             509577 non-null object\n",
      "region          509577 non-null object\n",
      "region_url      509577 non-null object\n",
      "price           509577 non-null int64\n",
      "year            508050 non-null float64\n",
      "manufacturer    486813 non-null object\n",
      "model           501588 non-null object\n",
      "condition       277643 non-null object\n",
      "cylinders       309894 non-null object\n",
      "fuel            505592 non-null object\n",
      "odometer        417253 non-null float64\n",
      "title_status    506515 non-null object\n",
      "transmission    505858 non-null object\n",
      "vin             302152 non-null object\n",
      "drive           365434 non-null object\n",
      "size            167574 non-null object\n",
      "type            368046 non-null object\n",
      "paint_color     344871 non-null object\n",
      "image_url       509563 non-null object\n",
      "state           509577 non-null object\n",
      "latitude        499285 non-null float64\n",
      "longitude       499285 non-null float64\n",
      "dtypes: float64(4), int64(2), object(17)\n",
      "memory usage: 89.4+ MB\n"
     ]
    }
   ],
   "source": [
    "vehicles.info()"
   ]
  },
  {
   "cell_type": "markdown",
   "metadata": {},
   "source": [
    "In order to explore the numerical variables, we used the pd.describe() function. Here we can observe that the maximum market price is $360'000.000 USD. When we looked at this observation unit in detail, we realized the data requires a further outlier treatment."
   ]
  },
  {
   "cell_type": "code",
   "execution_count": 6,
   "metadata": {},
   "outputs": [
    {
     "data": {
      "text/html": [
       "<div>\n",
       "<style scoped>\n",
       "    .dataframe tbody tr th:only-of-type {\n",
       "        vertical-align: middle;\n",
       "    }\n",
       "\n",
       "    .dataframe tbody tr th {\n",
       "        vertical-align: top;\n",
       "    }\n",
       "\n",
       "    .dataframe thead th {\n",
       "        text-align: right;\n",
       "    }\n",
       "</style>\n",
       "<table border=\"1\" class=\"dataframe\">\n",
       "  <thead>\n",
       "    <tr style=\"text-align: right;\">\n",
       "      <th></th>\n",
       "      <th>id</th>\n",
       "      <th>price</th>\n",
       "      <th>year</th>\n",
       "      <th>odometer</th>\n",
       "      <th>latitude</th>\n",
       "      <th>longitude</th>\n",
       "    </tr>\n",
       "  </thead>\n",
       "  <tbody>\n",
       "    <tr>\n",
       "      <th>count</th>\n",
       "      <td>5.095770e+05</td>\n",
       "      <td>5.095770e+05</td>\n",
       "      <td>508050.000000</td>\n",
       "      <td>4.172530e+05</td>\n",
       "      <td>499285.000000</td>\n",
       "      <td>499285.000000</td>\n",
       "    </tr>\n",
       "    <tr>\n",
       "      <th>mean</th>\n",
       "      <td>7.044176e+09</td>\n",
       "      <td>5.479684e+04</td>\n",
       "      <td>2009.662236</td>\n",
       "      <td>1.017300e+05</td>\n",
       "      <td>38.453818</td>\n",
       "      <td>-94.313886</td>\n",
       "    </tr>\n",
       "    <tr>\n",
       "      <th>std</th>\n",
       "      <td>4.937219e+06</td>\n",
       "      <td>9.575025e+06</td>\n",
       "      <td>8.567953</td>\n",
       "      <td>1.073790e+05</td>\n",
       "      <td>5.902152</td>\n",
       "      <td>17.717653</td>\n",
       "    </tr>\n",
       "    <tr>\n",
       "      <th>min</th>\n",
       "      <td>6.995212e+09</td>\n",
       "      <td>0.000000e+00</td>\n",
       "      <td>1900.000000</td>\n",
       "      <td>0.000000e+00</td>\n",
       "      <td>-82.688100</td>\n",
       "      <td>-165.935000</td>\n",
       "    </tr>\n",
       "    <tr>\n",
       "      <th>25%</th>\n",
       "      <td>7.040802e+09</td>\n",
       "      <td>3.995000e+03</td>\n",
       "      <td>2007.000000</td>\n",
       "      <td>4.948800e+04</td>\n",
       "      <td>34.557400</td>\n",
       "      <td>-108.506000</td>\n",
       "    </tr>\n",
       "    <tr>\n",
       "      <th>50%</th>\n",
       "      <td>7.045325e+09</td>\n",
       "      <td>9.377000e+03</td>\n",
       "      <td>2011.000000</td>\n",
       "      <td>9.489400e+04</td>\n",
       "      <td>39.145300</td>\n",
       "      <td>-88.678800</td>\n",
       "    </tr>\n",
       "    <tr>\n",
       "      <th>75%</th>\n",
       "      <td>7.048556e+09</td>\n",
       "      <td>1.795500e+04</td>\n",
       "      <td>2015.000000</td>\n",
       "      <td>1.387780e+05</td>\n",
       "      <td>42.449000</td>\n",
       "      <td>-81.111400</td>\n",
       "    </tr>\n",
       "    <tr>\n",
       "      <th>max</th>\n",
       "      <td>7.050103e+09</td>\n",
       "      <td>3.600029e+09</td>\n",
       "      <td>2021.000000</td>\n",
       "      <td>1.000000e+07</td>\n",
       "      <td>81.569300</td>\n",
       "      <td>94.124800</td>\n",
       "    </tr>\n",
       "  </tbody>\n",
       "</table>\n",
       "</div>"
      ],
      "text/plain": [
       "                 id         price           year      odometer       latitude  \\\n",
       "count  5.095770e+05  5.095770e+05  508050.000000  4.172530e+05  499285.000000   \n",
       "mean   7.044176e+09  5.479684e+04    2009.662236  1.017300e+05      38.453818   \n",
       "std    4.937219e+06  9.575025e+06       8.567953  1.073790e+05       5.902152   \n",
       "min    6.995212e+09  0.000000e+00    1900.000000  0.000000e+00     -82.688100   \n",
       "25%    7.040802e+09  3.995000e+03    2007.000000  4.948800e+04      34.557400   \n",
       "50%    7.045325e+09  9.377000e+03    2011.000000  9.489400e+04      39.145300   \n",
       "75%    7.048556e+09  1.795500e+04    2015.000000  1.387780e+05      42.449000   \n",
       "max    7.050103e+09  3.600029e+09    2021.000000  1.000000e+07      81.569300   \n",
       "\n",
       "           longitude  \n",
       "count  499285.000000  \n",
       "mean      -94.313886  \n",
       "std        17.717653  \n",
       "min      -165.935000  \n",
       "25%      -108.506000  \n",
       "50%       -88.678800  \n",
       "75%       -81.111400  \n",
       "max        94.124800  "
      ]
     },
     "execution_count": 6,
     "metadata": {},
     "output_type": "execute_result"
    }
   ],
   "source": [
    "vehicles.describe()"
   ]
  },
  {
   "cell_type": "markdown",
   "metadata": {},
   "source": [
    "In addition, we analyzed the frequency of the levels of the categorical variables"
   ]
  },
  {
   "cell_type": "code",
   "execution_count": 7,
   "metadata": {},
   "outputs": [],
   "source": [
    "numeric_features = ['year', 'odometer']\n",
    "categorical_features = ['state','manufacturer','model', 'condition', 'cylinders', 'fuel',\n",
    "                        'title_status', 'transmission', 'size', 'type', 'paint_color']"
   ]
  },
  {
   "cell_type": "code",
   "execution_count": 8,
   "metadata": {},
   "outputs": [
    {
     "name": "stdout",
     "output_type": "stream",
     "text": [
      "Feature: state\n",
      "------------\n",
      "This feature has 51 levels\n",
      "------------\n",
      "ca    52780\n",
      "fl    35244\n",
      "tx    29589\n",
      "ny    22473\n",
      "mi    21044\n",
      "or    19319\n",
      "oh    19313\n",
      "nc    19263\n",
      "wa    15657\n",
      "pa    15567\n",
      "wi    15082\n",
      "tn    13899\n",
      "va    12962\n",
      "co    12712\n",
      "il    11840\n",
      "ia    11339\n",
      "nj    10277\n",
      "id    10085\n",
      "mn     9877\n",
      "ma     9573\n",
      "sc     8903\n",
      "az     8572\n",
      "al     8321\n",
      "mt     8064\n",
      "ga     7468\n",
      "in     7364\n",
      "ar     7185\n",
      "ks     7092\n",
      "mo     6797\n",
      "ok     6677\n",
      "ct     6671\n",
      "ky     5879\n",
      "md     5172\n",
      "la     4433\n",
      "nm     4251\n",
      "ak     3873\n",
      "nv     3071\n",
      "nh     2976\n",
      "hi     2969\n",
      "vt     2968\n",
      "me     2963\n",
      "ri     2963\n",
      "dc     2961\n",
      "ne     2646\n",
      "ms     2507\n",
      "sd     2347\n",
      "ut     1670\n",
      "wv     1631\n",
      "de     1399\n",
      "wy     1073\n",
      "nd      816\n",
      "Name: state, dtype: int64\n",
      "\n",
      "\n",
      "\n",
      "Feature: manufacturer\n",
      "------------\n",
      "This feature has 44 levels\n",
      "------------\n",
      "ford               92601\n",
      "chevrolet          73661\n",
      "toyota             38159\n",
      "nissan             26435\n",
      "ram                26177\n",
      "honda              25585\n",
      "jeep               23951\n",
      "gmc                23126\n",
      "dodge              19344\n",
      "bmw                13468\n",
      "hyundai            12182\n",
      "mercedes-benz      11569\n",
      "subaru             10259\n",
      "volkswagen         10214\n",
      "chrysler            8866\n",
      "kia                 8821\n",
      "cadillac            7304\n",
      "buick               6357\n",
      "lexus               6292\n",
      "mazda               5851\n",
      "audi                5586\n",
      "acura               4169\n",
      "infiniti            3933\n",
      "pontiac             3493\n",
      "lincoln             3393\n",
      "volvo               3088\n",
      "mitsubishi          2848\n",
      "mini                2173\n",
      "rover               1840\n",
      "saturn              1790\n",
      "mercury             1760\n",
      "jaguar              1029\n",
      "fiat                 746\n",
      "harley-davidson      215\n",
      "tesla                207\n",
      "alfa-romeo           109\n",
      "ferrari               82\n",
      "datsun                68\n",
      "land rover            25\n",
      "aston-martin          22\n",
      "porche                10\n",
      "morgan                 3\n",
      "hennessey              2\n",
      "Name: manufacturer, dtype: int64\n",
      "\n",
      "\n",
      "\n",
      "Feature: model\n",
      "------------\n",
      "This feature has 35853 levels\n",
      "------------\n",
      "f-150                              11341\n",
      "silverado 1500                      7405\n",
      "1500                                7367\n",
      "silverado                           5256\n",
      "2500                                4439\n",
      "wrangler                            4019\n",
      "accord                              3987\n",
      "altima                              3914\n",
      "camry                               3856\n",
      "escape                              3586\n",
      "grand cherokee                      3559\n",
      "explorer                            3421\n",
      "tacoma                              3413\n",
      "civic                               3339\n",
      "tahoe                               3095\n",
      "mustang                             3089\n",
      "sierra 1500                         3013\n",
      "fusion                              2853\n",
      "focus                               2785\n",
      "silverado 2500hd                    2724\n",
      "equinox                             2690\n",
      "corolla                             2689\n",
      "malibu                              2636\n",
      "f-250                               2533\n",
      "impala                              2524\n",
      "grand caravan                       2451\n",
      "3500                                2391\n",
      "sierra                              2388\n",
      "tundra                              2386\n",
      "cr-v                                2280\n",
      "                                   ...  \n",
      "xc90 v8 sport                          1\n",
      "freightliner FL 120                    1\n",
      "3500 slt automatic                     1\n",
      "nitro stx                              1\n",
      "MERCEDES-BENZ/E-CLASS                  1\n",
      "nv200 van                              1\n",
      "435i gran coupe m-sport                1\n",
      "f- 350                                 1\n",
      "CHALLENGER CHARGER COUPE               1\n",
      "1500 4x4 long bed                      1\n",
      "probe gt                               1\n",
      "a3 2.0                                 1\n",
      "Cooper                                 1\n",
      "jimmy 4dr 4wd sl                       1\n",
      "challenger sxt 2dr coupe               1\n",
      "veloster re-flex edition               1\n",
      "durango suv crew awd                   1\n",
      "f-150 platinum 4x4 crew                1\n",
      "town & country lx van                  1\n",
      "F150XLT LARIAT                         1\n",
      "s6 prestige sport quattro              1\n",
      "2018 ProMaster Cargo 1500 136 W        1\n",
      "g g37 limited edition                  1\n",
      "Kaiser Henry J                         1\n",
      "z4 m sport                             1\n",
      "sierra 1500hd classic                  1\n",
      "2004 H2 Hummer                         1\n",
      "prius 5                                1\n",
      "olet CRUZE                             1\n",
      "maserati ghibli sq4                    1\n",
      "Name: model, Length: 35852, dtype: int64\n",
      "\n",
      "\n",
      "\n",
      "Feature: condition\n",
      "------------\n",
      "This feature has 7 levels\n",
      "------------\n",
      "excellent    140663\n",
      "good          97261\n",
      "like new      28166\n",
      "fair           9461\n",
      "new            1406\n",
      "salvage         686\n",
      "Name: condition, dtype: int64\n",
      "\n",
      "\n",
      "\n",
      "Feature: cylinders\n",
      "------------\n",
      "This feature has 9 levels\n",
      "------------\n",
      "6 cylinders     111940\n",
      "8 cylinders      95371\n",
      "4 cylinders      95308\n",
      "5 cylinders       2715\n",
      "10 cylinders      2299\n",
      "other             1506\n",
      "3 cylinders        562\n",
      "12 cylinders       193\n",
      "Name: cylinders, dtype: int64\n",
      "\n",
      "\n",
      "\n",
      "Feature: fuel\n",
      "------------\n",
      "This feature has 6 levels\n",
      "------------\n",
      "gas         441688\n",
      "diesel       41986\n",
      "other        17100\n",
      "hybrid        4052\n",
      "electric       766\n",
      "Name: fuel, dtype: int64\n",
      "\n",
      "\n",
      "\n",
      "Feature: title_status\n",
      "------------\n",
      "This feature has 7 levels\n",
      "------------\n",
      "clean         487040\n",
      "rebuilt        10473\n",
      "salvage         5324\n",
      "lien            2848\n",
      "missing          607\n",
      "parts only       223\n",
      "Name: title_status, dtype: int64\n",
      "\n",
      "\n",
      "\n",
      "Feature: transmission\n",
      "------------\n",
      "This feature has 4 levels\n",
      "------------\n",
      "automatic    457659\n",
      "manual        33962\n",
      "other         14237\n",
      "Name: transmission, dtype: int64\n",
      "\n",
      "\n",
      "\n",
      "Feature: size\n",
      "------------\n",
      "This feature has 5 levels\n",
      "------------\n",
      "full-size      90481\n",
      "mid-size       47756\n",
      "compact        25221\n",
      "sub-compact     4116\n",
      "Name: size, dtype: int64\n",
      "\n",
      "\n",
      "\n",
      "Feature: type\n",
      "------------\n",
      "This feature has 14 levels\n",
      "------------\n",
      "sedan          93225\n",
      "SUV            92300\n",
      "pickup         49547\n",
      "truck          49510\n",
      "coupe          19106\n",
      "other          13631\n",
      "hatchback      12850\n",
      "wagon          10937\n",
      "van            10579\n",
      "convertible     7737\n",
      "mini-van        7170\n",
      "offroad          742\n",
      "bus              712\n",
      "Name: type, dtype: int64\n",
      "\n",
      "\n",
      "\n",
      "Feature: paint_color\n",
      "------------\n",
      "This feature has 13 levels\n",
      "------------\n",
      "white     89322\n",
      "black     70581\n",
      "silver    51352\n",
      "blue      34584\n",
      "red       34410\n",
      "grey      33289\n",
      "green      9192\n",
      "custom     8894\n",
      "brown      7758\n",
      "yellow     2533\n",
      "orange     2125\n",
      "purple      831\n",
      "Name: paint_color, dtype: int64\n",
      "\n",
      "\n",
      "\n"
     ]
    }
   ],
   "source": [
    "for feat in categorical_features:\n",
    "    print('Feature: %s' %(feat))\n",
    "    print('------------')\n",
    "    print(f'This feature has {len(vehicles[feat].unique())} levels')\n",
    "    print('------------')\n",
    "    print(vehicles[feat].value_counts())\n",
    "    print('\\n\\n')"
   ]
  },
  {
   "cell_type": "markdown",
   "metadata": {},
   "source": [
    "### Step 5 - Data Visualizations"
   ]
  },
  {
   "cell_type": "markdown",
   "metadata": {},
   "source": [
    "#### Correlations"
   ]
  },
  {
   "cell_type": "code",
   "execution_count": 9,
   "metadata": {},
   "outputs": [
    {
     "data": {
      "application/vnd.vegalite.v3+json": {
       "$schema": "https://vega.github.io/schema/vega-lite/v3.4.0.json",
       "config": {
        "mark": {
         "tooltip": null
        },
        "view": {
         "height": 300,
         "width": 400
        }
       },
       "data": {
        "name": "data-4a1c6b8390445d7c8f4b5e764d8c0e02"
       },
       "datasets": {
        "data-4a1c6b8390445d7c8f4b5e764d8c0e02": [
         {
          "Correlation": 1,
          "Var1": "id",
          "Var2": "id"
         },
         {
          "Correlation": -0.002372087949289779,
          "Var1": "price",
          "Var2": "id"
         },
         {
          "Correlation": -0.015221940625329548,
          "Var1": "year",
          "Var2": "id"
         },
         {
          "Correlation": -0.0030217753060814223,
          "Var1": "odometer",
          "Var2": "id"
         },
         {
          "Correlation": -0.03694310587861333,
          "Var1": "latitude",
          "Var2": "id"
         },
         {
          "Correlation": -0.09468008469964642,
          "Var1": "longitude",
          "Var2": "id"
         },
         {
          "Correlation": -0.002372087949289779,
          "Var1": "id",
          "Var2": "price"
         },
         {
          "Correlation": 1,
          "Var1": "price",
          "Var2": "price"
         },
         {
          "Correlation": -0.004212468335532029,
          "Var1": "year",
          "Var2": "price"
         },
         {
          "Correlation": -0.0005849066630465068,
          "Var1": "odometer",
          "Var2": "price"
         },
         {
          "Correlation": -0.0006014966856464106,
          "Var1": "latitude",
          "Var2": "price"
         },
         {
          "Correlation": 0.001018881668029895,
          "Var1": "longitude",
          "Var2": "price"
         },
         {
          "Correlation": -0.015221940625329548,
          "Var1": "id",
          "Var2": "year"
         },
         {
          "Correlation": -0.004212468335532029,
          "Var1": "price",
          "Var2": "year"
         },
         {
          "Correlation": 1,
          "Var1": "year",
          "Var2": "year"
         },
         {
          "Correlation": -0.2761365584603683,
          "Var1": "odometer",
          "Var2": "year"
         },
         {
          "Correlation": 0.01787263138054067,
          "Var1": "latitude",
          "Var2": "year"
         },
         {
          "Correlation": -0.02023848647656666,
          "Var1": "longitude",
          "Var2": "year"
         },
         {
          "Correlation": -0.0030217753060814223,
          "Var1": "id",
          "Var2": "odometer"
         },
         {
          "Correlation": -0.0005849066630465068,
          "Var1": "price",
          "Var2": "odometer"
         },
         {
          "Correlation": -0.2761365584603683,
          "Var1": "year",
          "Var2": "odometer"
         },
         {
          "Correlation": 1,
          "Var1": "odometer",
          "Var2": "odometer"
         },
         {
          "Correlation": -0.004699062212185444,
          "Var1": "latitude",
          "Var2": "odometer"
         },
         {
          "Correlation": 0.04501592389871465,
          "Var1": "longitude",
          "Var2": "odometer"
         },
         {
          "Correlation": -0.03694310587861333,
          "Var1": "id",
          "Var2": "latitude"
         },
         {
          "Correlation": -0.0006014966856464106,
          "Var1": "price",
          "Var2": "latitude"
         },
         {
          "Correlation": 0.01787263138054067,
          "Var1": "year",
          "Var2": "latitude"
         },
         {
          "Correlation": -0.004699062212185444,
          "Var1": "odometer",
          "Var2": "latitude"
         },
         {
          "Correlation": 1,
          "Var1": "latitude",
          "Var2": "latitude"
         },
         {
          "Correlation": -0.14390592790751933,
          "Var1": "longitude",
          "Var2": "latitude"
         },
         {
          "Correlation": -0.09468008469964642,
          "Var1": "id",
          "Var2": "longitude"
         },
         {
          "Correlation": 0.001018881668029895,
          "Var1": "price",
          "Var2": "longitude"
         },
         {
          "Correlation": -0.02023848647656666,
          "Var1": "year",
          "Var2": "longitude"
         },
         {
          "Correlation": 0.04501592389871465,
          "Var1": "odometer",
          "Var2": "longitude"
         },
         {
          "Correlation": -0.14390592790751933,
          "Var1": "latitude",
          "Var2": "longitude"
         },
         {
          "Correlation": 1,
          "Var1": "longitude",
          "Var2": "longitude"
         }
        ]
       },
       "height": 400,
       "layer": [
        {
         "encoding": {
          "color": {
           "field": "Correlation",
           "scale": {
            "scheme": "viridis"
           },
           "type": "quantitative"
          },
          "x": {
           "field": "Var2",
           "type": "nominal"
          },
          "y": {
           "field": "Var1",
           "type": "nominal"
          }
         },
         "mark": "rect"
        },
        {
         "encoding": {
          "color": {
           "condition": {
            "test": "(datum.Correlation >= 0.95)",
            "value": "black"
           },
           "value": "white"
          },
          "text": {
           "field": "Correlation",
           "format": ".2",
           "type": "quantitative"
          },
          "x": {
           "field": "Var2",
           "type": "nominal"
          },
          "y": {
           "field": "Var1",
           "type": "nominal"
          }
         },
         "mark": {
          "baseline": "middle",
          "type": "text"
         }
        }
       ],
       "title": "Pearson's correlation",
       "width": 400
      },
      "image/png": "[encoded data removed]",
      "text/plain": [
       "<VegaLite 3 object>\n",
       "\n",
       "If you see this message, it means the renderer has not been properly enabled\n",
       "for the frontend that you are using. For more information, see\n",
       "https://altair-viz.github.io/user_guide/troubleshooting.html\n"
      ]
     },
     "execution_count": 9,
     "metadata": {},
     "output_type": "execute_result"
    }
   ],
   "source": [
    "vehicles_corr = vehicles.corr().reset_index().rename(columns = {'index':'Var1'}).melt(id_vars = ['Var1'],\n",
    "                                                                                    value_name = 'Correlation',\n",
    "                                                                                    var_name = 'Var2')\n",
    "base = alt.Chart(vehicles_corr).encode(\n",
    "    alt.Y('Var1:N'),\n",
    "    alt.X('Var2:N')\n",
    ") \n",
    "\n",
    "heatmap = base.mark_rect().encode(\n",
    "     alt.Color('Correlation:Q',\n",
    "                scale=alt.Scale(scheme='viridis'))\n",
    ")\n",
    "\n",
    "text = base.mark_text(baseline='middle').encode(\n",
    "    text=alt.Text('Correlation:Q', format='.2'),\n",
    "    color=alt.condition(\n",
    "        alt.datum.Correlation >= 0.95,\n",
    "        alt.value('black'),\n",
    "        alt.value('white')\n",
    "    )\n",
    ")\n",
    "\n",
    "(heatmap + text).properties(\n",
    "    width = 400,\n",
    "    height = 400,\n",
    "    title = \"Pearson's correlation\"\n",
    ")"
   ]
  },
  {
   "cell_type": "markdown",
   "metadata": {},
   "source": [
    "#### Frequency map"
   ]
  },
  {
   "cell_type": "code",
   "execution_count": 10,
   "metadata": {},
   "outputs": [],
   "source": [
    "vehicles['state'] = vehicles['state'].str.upper()\n",
    "vehicles_position = vehicles.dropna(subset = ['latitude', 'longitude'])[['state','latitude', 'longitude','price', 'id']]\n",
    "\n",
    "vehicles_position = vehicles_position.groupby(by = \"state\")\\\n",
    "                                     .agg({'price': 'mean',\n",
    "                                          'longitude' : 'mean',\n",
    "                                          'latitude' : 'mean',\n",
    "                                          'id': 'count'})\\\n",
    "                                     .reset_index()"
   ]
  },
  {
   "cell_type": "code",
   "execution_count": 11,
   "metadata": {},
   "outputs": [
    {
     "data": {
      "application/vnd.vegalite.v3+json": {
       "$schema": "https://vega.github.io/schema/vega-lite/v3.4.0.json",
       "config": {
        "mark": {
         "tooltip": null
        },
        "view": {
         "height": 300,
         "width": 400
        }
       },
       "datasets": {
        "data-e39b2b2e6254927dea781b59b3848377": [
         {
          "id": 3870,
          "latitude": 61.18248736434112,
          "longitude": -148.9983414470258,
          "price": 18314.842377260982,
          "state": "AK"
         },
         {
          "id": 8278,
          "latitude": 32.9613266247887,
          "longitude": -87.02948730369812,
          "price": 13989.073326890553,
          "state": "AL"
         },
         {
          "id": 7121,
          "latitude": 35.836677657631384,
          "longitude": -93.42399452324167,
          "price": 170723.84721247017,
          "state": "AR"
         },
         {
          "id": 8523,
          "latitude": 33.36202087058587,
          "longitude": -111.67771718878159,
          "price": 12860.150299190425,
          "state": "AZ"
         },
         {
          "id": 52322,
          "latitude": 36.31147979072015,
          "longitude": -119.21353378692874,
          "price": 40877.11501853904,
          "state": "CA"
         },
         {
          "id": 12551,
          "latitude": 39.41051247709398,
          "longitude": -104.72798791330744,
          "price": 45583.07051230978,
          "state": "CO"
         },
         {
          "id": 6557,
          "latitude": 41.52085004925973,
          "longitude": -73.0677937471387,
          "price": 12934.142900716792,
          "state": "CT"
         },
         {
          "id": 2946,
          "latitude": 38.7764443312967,
          "longitude": -77.33367484725089,
          "price": 9806.5811269518,
          "state": "DC"
         },
         {
          "id": 1396,
          "latitude": 39.64304477077369,
          "longitude": -75.35581038681931,
          "price": 11601.38681948424,
          "state": "DE"
         },
         {
          "id": 35120,
          "latitude": 28.57873726964631,
          "longitude": -82.22209538126087,
          "price": 44037.6117881549,
          "state": "FL"
         },
         {
          "id": 7032,
          "latitude": 33.28986268486876,
          "longitude": -83.7903545022752,
          "price": 365523.9519340159,
          "state": "GA"
         },
         {
          "id": 2967,
          "latitude": 21.231614897202565,
          "longitude": -157.09462042466942,
          "price": 14628.565891472868,
          "state": "HI"
         },
         {
          "id": 11102,
          "latitude": 41.81211595117974,
          "longitude": -94.02809029904763,
          "price": 12852.17807602234,
          "state": "IA"
         },
         {
          "id": 10039,
          "latitude": 45.62889121426624,
          "longitude": -116.42787343061651,
          "price": 16141.870305807352,
          "state": "ID"
         },
         {
          "id": 11488,
          "latitude": 40.26560432451167,
          "longitude": -89.31267431232183,
          "price": 11530.853151114206,
          "state": "IL"
         },
         {
          "id": 6974,
          "latitude": 40.09580152709978,
          "longitude": -86.03584886722093,
          "price": 29268.243045597934,
          "state": "IN"
         },
         {
          "id": 6983,
          "latitude": 38.22779273206181,
          "longitude": -95.48707684376528,
          "price": 14389.494773020191,
          "state": "KS"
         },
         {
          "id": 5794,
          "latitude": 37.92168553779799,
          "longitude": -85.08301007939414,
          "price": 12566.35916465309,
          "state": "KY"
         },
         {
          "id": 4372,
          "latitude": 30.75284190301932,
          "longitude": -91.28397122598415,
          "price": 10796.855215004574,
          "state": "LA"
         },
         {
          "id": 9449,
          "latitude": 42.17521020213791,
          "longitude": -71.72342725156311,
          "price": 11400.286697004974,
          "state": "MA"
         },
         {
          "id": 5155,
          "latitude": 38.97607751697333,
          "longitude": -76.98250197866244,
          "price": 702228.7179437439,
          "state": "MD"
         },
         {
          "id": 2887,
          "latitude": 43.46903124350587,
          "longitude": -70.75493366816808,
          "price": 11654.923796328369,
          "state": "ME"
         },
         {
          "id": 20863,
          "latitude": 42.93567386133684,
          "longitude": -84.50695149307747,
          "price": 59374.168000766906,
          "state": "MI"
         },
         {
          "id": 9830,
          "latitude": 45.49682762054981,
          "longitude": -94.01802613427891,
          "price": 12458.358494404883,
          "state": "MN"
         },
         {
          "id": 6700,
          "latitude": 37.83185572238896,
          "longitude": -93.06681102984885,
          "price": 12839.59432835821,
          "state": "MO"
         },
         {
          "id": 2486,
          "latitude": 32.564491427997005,
          "longitude": -88.82352779565652,
          "price": 15162.880128720837,
          "state": "MS"
         },
         {
          "id": 7826,
          "latitude": 46.906280373115145,
          "longitude": -113.71057675351074,
          "price": 20077.00779453105,
          "state": "MT"
         },
         {
          "id": 17533,
          "latitude": 35.473962583698345,
          "longitude": -80.00001386528126,
          "price": 11119.960075286603,
          "state": "NC"
         },
         {
          "id": 815,
          "latitude": 44.85032858895729,
          "longitude": -99.55382012269949,
          "price": 17715.111656441717,
          "state": "ND"
         },
         {
          "id": 2625,
          "latitude": 40.92399935238149,
          "longitude": -97.14066655238304,
          "price": 1387209.4883809523,
          "state": "NE"
         },
         {
          "id": 2904,
          "latitude": 42.97128546831973,
          "longitude": -71.4487756887058,
          "price": 12012.500688705235,
          "state": "NH"
         },
         {
          "id": 10200,
          "latitude": 40.32411245980296,
          "longitude": -74.59648553333413,
          "price": 139693.68029411766,
          "state": "NJ"
         },
         {
          "id": 4171,
          "latitude": 35.06323567489751,
          "longitude": -106.04847365619909,
          "price": 44446.46751378566,
          "state": "NM"
         },
         {
          "id": 3038,
          "latitude": 36.11814229756477,
          "longitude": -115.13251030283107,
          "price": 14253.067149440421,
          "state": "NV"
         },
         {
          "id": 21958,
          "latitude": 42.13095260315198,
          "longitude": -75.4541346976044,
          "price": 17851.716276527917,
          "state": "NY"
         },
         {
          "id": 19119,
          "latitude": 40.48930315392937,
          "longitude": -82.81926539044943,
          "price": 11177.664051467127,
          "state": "OH"
         },
         {
          "id": 6403,
          "latitude": 35.54450457597997,
          "longitude": -96.7165571607069,
          "price": 12854.224738403873,
          "state": "OK"
         },
         {
          "id": 19142,
          "latitude": 44.596546186393496,
          "longitude": -122.56258633162957,
          "price": 13058.513269250861,
          "state": "OR"
         },
         {
          "id": 15333,
          "latitude": 40.4445074952703,
          "longitude": -77.11427104937249,
          "price": 10503.189069327595,
          "state": "PA"
         },
         {
          "id": 2943,
          "latitude": 41.86565504587148,
          "longitude": -71.51957210329552,
          "price": 12032.278627251104,
          "state": "RI"
         },
         {
          "id": 8043,
          "latitude": 34.11671542956484,
          "longitude": -81.06816616933914,
          "price": 13378.604998135024,
          "state": "SC"
         },
         {
          "id": 2330,
          "latitude": 43.73234399141622,
          "longitude": -98.4059344635203,
          "price": 15081.104721030042,
          "state": "SD"
         },
         {
          "id": 13351,
          "latitude": 35.532829934836066,
          "longitude": -86.14492069957022,
          "price": 213260.55846004045,
          "state": "TN"
         },
         {
          "id": 29217,
          "latitude": 30.799417240646353,
          "longitude": -98.64366997121459,
          "price": 47868.44765034055,
          "state": "TX"
         },
         {
          "id": 1640,
          "latitude": 38.07044149390231,
          "longitude": -111.65928603658557,
          "price": 20233.20914634146,
          "state": "UT"
         },
         {
          "id": 12044,
          "latitude": 37.57453199518472,
          "longitude": -77.93470781301711,
          "price": 107475.94345732316,
          "state": "VA"
         },
         {
          "id": 2861,
          "latitude": 43.812028940929366,
          "longitude": -72.87938755679781,
          "price": 57160.113247116395,
          "state": "VT"
         },
         {
          "id": 15498,
          "latitude": 47.314186566010264,
          "longitude": -120.62384613434207,
          "price": 16777.568395922055,
          "state": "WA"
         },
         {
          "id": 14821,
          "latitude": 43.570030247621844,
          "longitude": -88.95175507793154,
          "price": 14858.720599149856,
          "state": "WI"
         },
         {
          "id": 1593,
          "latitude": 38.94222981795358,
          "longitude": -80.32105543000606,
          "price": 8189.786566227244,
          "state": "WV"
         },
         {
          "id": 1072,
          "latitude": 41.311494869402985,
          "longitude": -105.52919039179184,
          "price": 17346.774253731342,
          "state": "WY"
         }
        ]
       },
       "layer": [
        {
         "data": {
          "format": {
           "feature": "states",
           "type": "topojson"
          },
          "url": "https://vega.github.io/vega-datasets/data/us-10m.json"
         },
         "height": 300,
         "mark": {
          "fill": "lightgray",
          "stroke": "white",
          "type": "geoshape"
         },
         "projection": {
          "type": "albersUsa"
         },
         "width": 500
        },
        {
         "data": {
          "name": "data-e39b2b2e6254927dea781b59b3848377"
         },
         "encoding": {
          "color": {
           "value": "steelblue"
          },
          "latitude": {
           "field": "latitude",
           "type": "quantitative"
          },
          "longitude": {
           "field": "longitude",
           "type": "quantitative"
          },
          "size": {
           "field": "count",
           "title": "Number of vehicles per state",
           "type": "quantitative"
          },
          "tooltip": [
           {
            "field": "state",
            "title": "state",
            "type": "nominal"
           },
           {
            "field": "count",
            "format": ",.2f",
            "title": "Price",
            "type": "quantitative"
           }
          ]
         },
         "mark": "circle",
         "title": "Number of vehicles per state",
         "transform": [
          {
           "aggregate": [
            {
             "as": "latitude",
             "field": "latitude",
             "op": "mean"
            },
            {
             "as": "longitude",
             "field": "longitude",
             "op": "mean"
            },
            {
             "as": "count",
             "field": "id",
             "op": "sum"
            }
           ],
           "groupby": [
            "state"
           ]
          }
         ]
        }
       ]
      },
      "image/png": "[encoded data removed]",
      "text/plain": [
       "<VegaLite 3 object>\n",
       "\n",
       "If you see this message, it means the renderer has not been properly enabled\n",
       "for the frontend that you are using. For more information, see\n",
       "https://altair-viz.github.io/user_guide/troubleshooting.html\n"
      ]
     },
     "execution_count": 11,
     "metadata": {},
     "output_type": "execute_result"
    }
   ],
   "source": [
    "states = alt.topo_feature(data.us_10m.url, feature='states')\n",
    "\n",
    "# US states background\n",
    "background = alt.Chart(states).mark_geoshape(\n",
    "    fill='lightgray',\n",
    "    stroke='white'\n",
    ").properties(\n",
    "    width=500,\n",
    "    height=300\n",
    ").project('albersUsa')\n",
    "\n",
    "points = alt.Chart(vehicles_position).transform_aggregate(\n",
    "    latitude='mean(latitude)',\n",
    "    longitude='mean(longitude)',\n",
    "    count='sum(id)',\n",
    "    groupby=['state']\n",
    ").mark_circle().encode(\n",
    "    longitude='longitude:Q',\n",
    "    latitude='latitude:Q',\n",
    "    size=alt.Size('count:Q', title='Number of vehicles per state'),\n",
    "    color=alt.value('steelblue'),\n",
    "    tooltip=[alt.Tooltip('state:N', title='state'), alt.Tooltip('count:Q', title='Price', format=',.2f')]\n",
    ").properties(\n",
    "    title='Number of vehicles per state'\n",
    ")\n",
    "background + points"
   ]
  },
  {
   "cell_type": "code",
   "execution_count": 12,
   "metadata": {},
   "outputs": [
    {
     "data": {
      "application/vnd.vegalite.v3+json": {
       "$schema": "https://vega.github.io/schema/vega-lite/v3.4.0.json",
       "config": {
        "mark": {
         "tooltip": null
        },
        "view": {
         "height": 300,
         "width": 400
        }
       },
       "datasets": {
        "data-e39b2b2e6254927dea781b59b3848377": [
         {
          "id": 3870,
          "latitude": 61.18248736434112,
          "longitude": -148.9983414470258,
          "price": 18314.842377260982,
          "state": "AK"
         },
         {
          "id": 8278,
          "latitude": 32.9613266247887,
          "longitude": -87.02948730369812,
          "price": 13989.073326890553,
          "state": "AL"
         },
         {
          "id": 7121,
          "latitude": 35.836677657631384,
          "longitude": -93.42399452324167,
          "price": 170723.84721247017,
          "state": "AR"
         },
         {
          "id": 8523,
          "latitude": 33.36202087058587,
          "longitude": -111.67771718878159,
          "price": 12860.150299190425,
          "state": "AZ"
         },
         {
          "id": 52322,
          "latitude": 36.31147979072015,
          "longitude": -119.21353378692874,
          "price": 40877.11501853904,
          "state": "CA"
         },
         {
          "id": 12551,
          "latitude": 39.41051247709398,
          "longitude": -104.72798791330744,
          "price": 45583.07051230978,
          "state": "CO"
         },
         {
          "id": 6557,
          "latitude": 41.52085004925973,
          "longitude": -73.0677937471387,
          "price": 12934.142900716792,
          "state": "CT"
         },
         {
          "id": 2946,
          "latitude": 38.7764443312967,
          "longitude": -77.33367484725089,
          "price": 9806.5811269518,
          "state": "DC"
         },
         {
          "id": 1396,
          "latitude": 39.64304477077369,
          "longitude": -75.35581038681931,
          "price": 11601.38681948424,
          "state": "DE"
         },
         {
          "id": 35120,
          "latitude": 28.57873726964631,
          "longitude": -82.22209538126087,
          "price": 44037.6117881549,
          "state": "FL"
         },
         {
          "id": 7032,
          "latitude": 33.28986268486876,
          "longitude": -83.7903545022752,
          "price": 365523.9519340159,
          "state": "GA"
         },
         {
          "id": 2967,
          "latitude": 21.231614897202565,
          "longitude": -157.09462042466942,
          "price": 14628.565891472868,
          "state": "HI"
         },
         {
          "id": 11102,
          "latitude": 41.81211595117974,
          "longitude": -94.02809029904763,
          "price": 12852.17807602234,
          "state": "IA"
         },
         {
          "id": 10039,
          "latitude": 45.62889121426624,
          "longitude": -116.42787343061651,
          "price": 16141.870305807352,
          "state": "ID"
         },
         {
          "id": 11488,
          "latitude": 40.26560432451167,
          "longitude": -89.31267431232183,
          "price": 11530.853151114206,
          "state": "IL"
         },
         {
          "id": 6974,
          "latitude": 40.09580152709978,
          "longitude": -86.03584886722093,
          "price": 29268.243045597934,
          "state": "IN"
         },
         {
          "id": 6983,
          "latitude": 38.22779273206181,
          "longitude": -95.48707684376528,
          "price": 14389.494773020191,
          "state": "KS"
         },
         {
          "id": 5794,
          "latitude": 37.92168553779799,
          "longitude": -85.08301007939414,
          "price": 12566.35916465309,
          "state": "KY"
         },
         {
          "id": 4372,
          "latitude": 30.75284190301932,
          "longitude": -91.28397122598415,
          "price": 10796.855215004574,
          "state": "LA"
         },
         {
          "id": 9449,
          "latitude": 42.17521020213791,
          "longitude": -71.72342725156311,
          "price": 11400.286697004974,
          "state": "MA"
         },
         {
          "id": 5155,
          "latitude": 38.97607751697333,
          "longitude": -76.98250197866244,
          "price": 702228.7179437439,
          "state": "MD"
         },
         {
          "id": 2887,
          "latitude": 43.46903124350587,
          "longitude": -70.75493366816808,
          "price": 11654.923796328369,
          "state": "ME"
         },
         {
          "id": 20863,
          "latitude": 42.93567386133684,
          "longitude": -84.50695149307747,
          "price": 59374.168000766906,
          "state": "MI"
         },
         {
          "id": 9830,
          "latitude": 45.49682762054981,
          "longitude": -94.01802613427891,
          "price": 12458.358494404883,
          "state": "MN"
         },
         {
          "id": 6700,
          "latitude": 37.83185572238896,
          "longitude": -93.06681102984885,
          "price": 12839.59432835821,
          "state": "MO"
         },
         {
          "id": 2486,
          "latitude": 32.564491427997005,
          "longitude": -88.82352779565652,
          "price": 15162.880128720837,
          "state": "MS"
         },
         {
          "id": 7826,
          "latitude": 46.906280373115145,
          "longitude": -113.71057675351074,
          "price": 20077.00779453105,
          "state": "MT"
         },
         {
          "id": 17533,
          "latitude": 35.473962583698345,
          "longitude": -80.00001386528126,
          "price": 11119.960075286603,
          "state": "NC"
         },
         {
          "id": 815,
          "latitude": 44.85032858895729,
          "longitude": -99.55382012269949,
          "price": 17715.111656441717,
          "state": "ND"
         },
         {
          "id": 2625,
          "latitude": 40.92399935238149,
          "longitude": -97.14066655238304,
          "price": 1387209.4883809523,
          "state": "NE"
         },
         {
          "id": 2904,
          "latitude": 42.97128546831973,
          "longitude": -71.4487756887058,
          "price": 12012.500688705235,
          "state": "NH"
         },
         {
          "id": 10200,
          "latitude": 40.32411245980296,
          "longitude": -74.59648553333413,
          "price": 139693.68029411766,
          "state": "NJ"
         },
         {
          "id": 4171,
          "latitude": 35.06323567489751,
          "longitude": -106.04847365619909,
          "price": 44446.46751378566,
          "state": "NM"
         },
         {
          "id": 3038,
          "latitude": 36.11814229756477,
          "longitude": -115.13251030283107,
          "price": 14253.067149440421,
          "state": "NV"
         },
         {
          "id": 21958,
          "latitude": 42.13095260315198,
          "longitude": -75.4541346976044,
          "price": 17851.716276527917,
          "state": "NY"
         },
         {
          "id": 19119,
          "latitude": 40.48930315392937,
          "longitude": -82.81926539044943,
          "price": 11177.664051467127,
          "state": "OH"
         },
         {
          "id": 6403,
          "latitude": 35.54450457597997,
          "longitude": -96.7165571607069,
          "price": 12854.224738403873,
          "state": "OK"
         },
         {
          "id": 19142,
          "latitude": 44.596546186393496,
          "longitude": -122.56258633162957,
          "price": 13058.513269250861,
          "state": "OR"
         },
         {
          "id": 15333,
          "latitude": 40.4445074952703,
          "longitude": -77.11427104937249,
          "price": 10503.189069327595,
          "state": "PA"
         },
         {
          "id": 2943,
          "latitude": 41.86565504587148,
          "longitude": -71.51957210329552,
          "price": 12032.278627251104,
          "state": "RI"
         },
         {
          "id": 8043,
          "latitude": 34.11671542956484,
          "longitude": -81.06816616933914,
          "price": 13378.604998135024,
          "state": "SC"
         },
         {
          "id": 2330,
          "latitude": 43.73234399141622,
          "longitude": -98.4059344635203,
          "price": 15081.104721030042,
          "state": "SD"
         },
         {
          "id": 13351,
          "latitude": 35.532829934836066,
          "longitude": -86.14492069957022,
          "price": 213260.55846004045,
          "state": "TN"
         },
         {
          "id": 29217,
          "latitude": 30.799417240646353,
          "longitude": -98.64366997121459,
          "price": 47868.44765034055,
          "state": "TX"
         },
         {
          "id": 1640,
          "latitude": 38.07044149390231,
          "longitude": -111.65928603658557,
          "price": 20233.20914634146,
          "state": "UT"
         },
         {
          "id": 12044,
          "latitude": 37.57453199518472,
          "longitude": -77.93470781301711,
          "price": 107475.94345732316,
          "state": "VA"
         },
         {
          "id": 2861,
          "latitude": 43.812028940929366,
          "longitude": -72.87938755679781,
          "price": 57160.113247116395,
          "state": "VT"
         },
         {
          "id": 15498,
          "latitude": 47.314186566010264,
          "longitude": -120.62384613434207,
          "price": 16777.568395922055,
          "state": "WA"
         },
         {
          "id": 14821,
          "latitude": 43.570030247621844,
          "longitude": -88.95175507793154,
          "price": 14858.720599149856,
          "state": "WI"
         },
         {
          "id": 1593,
          "latitude": 38.94222981795358,
          "longitude": -80.32105543000606,
          "price": 8189.786566227244,
          "state": "WV"
         },
         {
          "id": 1072,
          "latitude": 41.311494869402985,
          "longitude": -105.52919039179184,
          "price": 17346.774253731342,
          "state": "WY"
         }
        ]
       },
       "layer": [
        {
         "data": {
          "format": {
           "feature": "states",
           "type": "topojson"
          },
          "url": "https://vega.github.io/vega-datasets/data/us-10m.json"
         },
         "height": 300,
         "mark": {
          "fill": "lightgray",
          "stroke": "white",
          "type": "geoshape"
         },
         "projection": {
          "type": "albersUsa"
         },
         "width": 500
        },
        {
         "data": {
          "name": "data-e39b2b2e6254927dea781b59b3848377"
         },
         "encoding": {
          "color": {
           "value": "steelblue"
          },
          "latitude": {
           "field": "latitude",
           "type": "quantitative"
          },
          "longitude": {
           "field": "longitude",
           "type": "quantitative"
          },
          "size": {
           "field": "count",
           "title": "Average market price per state",
           "type": "quantitative"
          },
          "tooltip": [
           {
            "field": "state",
            "title": "state",
            "type": "nominal"
           },
           {
            "field": "count",
            "format": "$,.2f",
            "title": "Price",
            "type": "quantitative"
           }
          ]
         },
         "mark": "circle",
         "title": "Average market price per state",
         "transform": [
          {
           "aggregate": [
            {
             "as": "latitude",
             "field": "latitude",
             "op": "mean"
            },
            {
             "as": "longitude",
             "field": "longitude",
             "op": "mean"
            },
            {
             "as": "count",
             "field": "price",
             "op": "sum"
            }
           ],
           "groupby": [
            "state"
           ]
          }
         ]
        }
       ]
      },
      "image/png": "[encoded data removed]",
      "text/plain": [
       "<VegaLite 3 object>\n",
       "\n",
       "If you see this message, it means the renderer has not been properly enabled\n",
       "for the frontend that you are using. For more information, see\n",
       "https://altair-viz.github.io/user_guide/troubleshooting.html\n"
      ]
     },
     "execution_count": 12,
     "metadata": {},
     "output_type": "execute_result"
    }
   ],
   "source": [
    "states = alt.topo_feature(data.us_10m.url, feature='states')\n",
    "\n",
    "# US states background\n",
    "background = alt.Chart(states).mark_geoshape(\n",
    "    fill='lightgray',\n",
    "    stroke='white'\n",
    ").properties(\n",
    "    width=500,\n",
    "    height=300\n",
    ").project('albersUsa')\n",
    "\n",
    "points = alt.Chart(vehicles_position).transform_aggregate(\n",
    "    latitude='mean(latitude)',\n",
    "    longitude='mean(longitude)',\n",
    "    count='sum(price)',\n",
    "    groupby=['state']\n",
    ").mark_circle().encode(\n",
    "    longitude='longitude:Q',\n",
    "    latitude='latitude:Q',\n",
    "    size=alt.Size('count:Q', title='Average market price per state'),\n",
    "    color=alt.value('steelblue'),\n",
    "    tooltip=[alt.Tooltip('state:N', title='state'), alt.Tooltip('count:Q', title='Price', format='$,.2f')]\n",
    ").properties(\n",
    "    title='Average market price per state'\n",
    ")\n",
    "background + points"
   ]
  },
  {
   "cell_type": "markdown",
   "metadata": {},
   "source": [
    "#### Market price by numerical variables"
   ]
  },
  {
   "cell_type": "code",
   "execution_count": null,
   "metadata": {},
   "outputs": [],
   "source": [
    "numeric_encondings = ['year:Q', 'odometer:Q']\n",
    "\n",
    "base = alt.Chart().mark_point().encode(\n",
    "        alt.Y('price:Q')\n",
    "    ).properties(\n",
    "        width=200,\n",
    "        height=200\n",
    "    )\n",
    "\n",
    "chart = alt.vconcat(data = vehicles)\n",
    "\n",
    "for i in numeric_encondings:\n",
    "    chart &= base.encode(x=i)\n",
    "    \n",
    "chart"
   ]
  },
  {
   "cell_type": "code",
   "execution_count": null,
   "metadata": {},
   "outputs": [],
   "source": []
  }
 ],
 "metadata": {
  "kernelspec": {
   "display_name": "Python 3",
   "language": "python",
   "name": "python3"
  },
  "language_info": {
   "codemirror_mode": {
    "name": "ipython",
    "version": 3
   },
   "file_extension": ".py",
   "mimetype": "text/x-python",
   "name": "python",
   "nbconvert_exporter": "python",
   "pygments_lexer": "ipython3",
   "version": "3.7.3"
  }
 },
 "nbformat": 4,
 "nbformat_minor": 4
}
