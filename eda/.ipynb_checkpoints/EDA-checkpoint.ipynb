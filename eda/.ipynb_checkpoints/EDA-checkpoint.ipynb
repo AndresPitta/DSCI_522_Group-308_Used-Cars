{
 "cells": [
  {
   "cell_type": "markdown",
   "metadata": {},
   "source": [
    "# Vehicle's Market Price - EDA"
   ]
  },
  {
   "cell_type": "markdown",
   "metadata": {},
   "source": [
    "This is the **E**xploratory **D**ata **A**nalysis for the vehicle's market price dataset. In this analysis, we are going to analyze the different variables of the model in relation to the vehicle's prices for a better understanding of the dataset.\n",
    "\n",
    "Here are the steps of the analysis:"
   ]
  },
  {
   "cell_type": "markdown",
   "metadata": {},
   "source": [
    "### Step 1 - Packages"
   ]
  },
  {
   "cell_type": "code",
   "execution_count": 1,
   "metadata": {},
   "outputs": [],
   "source": [
    "import pandas as pd\n",
    "import altair as alt\n",
    "import pandas_profiling\n",
    "from sklearn.model_selection import train_test_split\n",
    "from sklearn.preprocessing import OneHotEncoder\n",
    "\n",
    "from vega_datasets import data"
   ]
  },
  {
   "cell_type": "code",
   "execution_count": 2,
   "metadata": {},
   "outputs": [
    {
     "data": {
      "text/plain": [
       "DataTransformerRegistry.enable('default')"
      ]
     },
     "execution_count": 2,
     "metadata": {},
     "output_type": "execute_result"
    }
   ],
   "source": [
    "alt.data_transformers.disable_max_rows()"
   ]
  },
  {
   "cell_type": "markdown",
   "metadata": {},
   "source": [
    "### Step 2 - Data loading"
   ]
  },
  {
   "cell_type": "markdown",
   "metadata": {},
   "source": [
    "For this model we are using a dataset of vehicle prices downloaded from Austin Reese's public repository in [kaggle](https://www.kaggle.com/austinreese/craigslist-carstrucks-data). This dataset contains 509,577 used cars listings with their market price."
   ]
  },
  {
   "cell_type": "code",
   "execution_count": 55,
   "metadata": {},
   "outputs": [],
   "source": [
    "vehicles = pd.read_csv(\"../data/vehicles_train.csv\")\n",
    "vehicles_test = pd.read_csv(\"../data/vehicles_test.csv\")"
   ]
  },
  {
   "cell_type": "code",
   "execution_count": 57,
   "metadata": {},
   "outputs": [
    {
     "name": "stdout",
     "output_type": "stream",
     "text": [
      "337665\n",
      "50958\n"
     ]
    }
   ],
   "source": [
    "print(len(vehicles))\n",
    "print(len(vehicles_test))"
   ]
  },
  {
   "cell_type": "code",
   "execution_count": 51,
   "metadata": {},
   "outputs": [],
   "source": [
    "vehicles = vehicles.rename(columns = {\"lat\": \"latitude\", \"long\": \"longitude\"})"
   ]
  },
  {
   "cell_type": "markdown",
   "metadata": {},
   "source": [
    "### Step 3 - Dataset head"
   ]
  },
  {
   "cell_type": "code",
   "execution_count": 52,
   "metadata": {},
   "outputs": [
    {
     "data": {
      "text/html": [
       "<div>\n",
       "<style scoped>\n",
       "    .dataframe tbody tr th:only-of-type {\n",
       "        vertical-align: middle;\n",
       "    }\n",
       "\n",
       "    .dataframe tbody tr th {\n",
       "        vertical-align: top;\n",
       "    }\n",
       "\n",
       "    .dataframe thead th {\n",
       "        text-align: right;\n",
       "    }\n",
       "</style>\n",
       "<table border=\"1\" class=\"dataframe\">\n",
       "  <thead>\n",
       "    <tr style=\"text-align: right;\">\n",
       "      <th></th>\n",
       "      <th>id</th>\n",
       "      <th>region</th>\n",
       "      <th>price</th>\n",
       "      <th>year</th>\n",
       "      <th>manufacturer</th>\n",
       "      <th>model</th>\n",
       "      <th>condition</th>\n",
       "      <th>cylinders</th>\n",
       "      <th>fuel</th>\n",
       "      <th>odometer</th>\n",
       "      <th>...</th>\n",
       "      <th>transmission</th>\n",
       "      <th>vin</th>\n",
       "      <th>drive</th>\n",
       "      <th>size</th>\n",
       "      <th>type</th>\n",
       "      <th>paint_color</th>\n",
       "      <th>image_url</th>\n",
       "      <th>state</th>\n",
       "      <th>latitude</th>\n",
       "      <th>longitude</th>\n",
       "    </tr>\n",
       "  </thead>\n",
       "  <tbody>\n",
       "    <tr>\n",
       "      <th>0</th>\n",
       "      <td>7036192798</td>\n",
       "      <td>redding</td>\n",
       "      <td>21995</td>\n",
       "      <td>2018.0</td>\n",
       "      <td>dodge</td>\n",
       "      <td>challenger</td>\n",
       "      <td>excellent</td>\n",
       "      <td>6 cylinders</td>\n",
       "      <td>gas</td>\n",
       "      <td>39523</td>\n",
       "      <td>...</td>\n",
       "      <td>automatic</td>\n",
       "      <td>2C3CDZAG9JH245656</td>\n",
       "      <td>rwd</td>\n",
       "      <td>full-size</td>\n",
       "      <td>sedan</td>\n",
       "      <td>silver</td>\n",
       "      <td>https://images.craigslist.org/00l0l_36bjvq5Rkt...</td>\n",
       "      <td>ca</td>\n",
       "      <td>39.7480</td>\n",
       "      <td>-122.1980</td>\n",
       "    </tr>\n",
       "    <tr>\n",
       "      <th>1</th>\n",
       "      <td>7048939691</td>\n",
       "      <td>minneapolis / st paul</td>\n",
       "      <td>7995</td>\n",
       "      <td>2004.0</td>\n",
       "      <td>ford</td>\n",
       "      <td>ranger ext cab xlt</td>\n",
       "      <td>good</td>\n",
       "      <td>6 cylinders</td>\n",
       "      <td>gas</td>\n",
       "      <td>86000</td>\n",
       "      <td>...</td>\n",
       "      <td>automatic</td>\n",
       "      <td>No value</td>\n",
       "      <td>4wd</td>\n",
       "      <td>No value</td>\n",
       "      <td>No value</td>\n",
       "      <td>No value</td>\n",
       "      <td>https://images.craigslist.org/00Q0Q_6Y8C5Ch37Y...</td>\n",
       "      <td>mn</td>\n",
       "      <td>44.0032</td>\n",
       "      <td>-92.4835</td>\n",
       "    </tr>\n",
       "    <tr>\n",
       "      <th>2</th>\n",
       "      <td>7043651214</td>\n",
       "      <td>youngstown</td>\n",
       "      <td>2500</td>\n",
       "      <td>2003.0</td>\n",
       "      <td>pontiac</td>\n",
       "      <td>grand am</td>\n",
       "      <td>good</td>\n",
       "      <td>6 cylinders</td>\n",
       "      <td>gas</td>\n",
       "      <td>75056</td>\n",
       "      <td>...</td>\n",
       "      <td>automatic</td>\n",
       "      <td>No value</td>\n",
       "      <td>fwd</td>\n",
       "      <td>No value</td>\n",
       "      <td>sedan</td>\n",
       "      <td>green</td>\n",
       "      <td>https://images.craigslist.org/00B0B_g2vqZEHV6g...</td>\n",
       "      <td>oh</td>\n",
       "      <td>41.0774</td>\n",
       "      <td>-80.6409</td>\n",
       "    </tr>\n",
       "    <tr>\n",
       "      <th>3</th>\n",
       "      <td>7040372747</td>\n",
       "      <td>southwest michigan</td>\n",
       "      <td>14997</td>\n",
       "      <td>2017.0</td>\n",
       "      <td>chevrolet</td>\n",
       "      <td>equinox</td>\n",
       "      <td>No value</td>\n",
       "      <td>4 cylinders</td>\n",
       "      <td>gas</td>\n",
       "      <td>28988</td>\n",
       "      <td>...</td>\n",
       "      <td>automatic</td>\n",
       "      <td>2GNFLFEK0H6212020</td>\n",
       "      <td>4wd</td>\n",
       "      <td>compact</td>\n",
       "      <td>SUV</td>\n",
       "      <td>white</td>\n",
       "      <td>https://images.craigslist.org/00N0N_8QelR31B6k...</td>\n",
       "      <td>mi</td>\n",
       "      <td>42.8395</td>\n",
       "      <td>-85.5297</td>\n",
       "    </tr>\n",
       "    <tr>\n",
       "      <th>4</th>\n",
       "      <td>7049492073</td>\n",
       "      <td>houston</td>\n",
       "      <td>2400</td>\n",
       "      <td>2004.0</td>\n",
       "      <td>lincoln</td>\n",
       "      <td>No value</td>\n",
       "      <td>good</td>\n",
       "      <td>6 cylinders</td>\n",
       "      <td>gas</td>\n",
       "      <td>139000</td>\n",
       "      <td>...</td>\n",
       "      <td>automatic</td>\n",
       "      <td>No value</td>\n",
       "      <td>fwd</td>\n",
       "      <td>full-size</td>\n",
       "      <td>sedan</td>\n",
       "      <td>black</td>\n",
       "      <td>https://images.craigslist.org/00w0w_iOm2ygIKhQ...</td>\n",
       "      <td>tx</td>\n",
       "      <td>29.6364</td>\n",
       "      <td>-95.2216</td>\n",
       "    </tr>\n",
       "  </tbody>\n",
       "</table>\n",
       "<p>5 rows × 21 columns</p>\n",
       "</div>"
      ],
      "text/plain": [
       "           id                 region  price    year manufacturer  \\\n",
       "0  7036192798                redding  21995  2018.0        dodge   \n",
       "1  7048939691  minneapolis / st paul   7995  2004.0         ford   \n",
       "2  7043651214             youngstown   2500  2003.0      pontiac   \n",
       "3  7040372747     southwest michigan  14997  2017.0    chevrolet   \n",
       "4  7049492073                houston   2400  2004.0      lincoln   \n",
       "\n",
       "                model  condition    cylinders fuel  odometer  ...  \\\n",
       "0          challenger  excellent  6 cylinders  gas     39523  ...   \n",
       "1  ranger ext cab xlt       good  6 cylinders  gas     86000  ...   \n",
       "2            grand am       good  6 cylinders  gas     75056  ...   \n",
       "3             equinox   No value  4 cylinders  gas     28988  ...   \n",
       "4            No value       good  6 cylinders  gas    139000  ...   \n",
       "\n",
       "  transmission                vin drive       size      type paint_color  \\\n",
       "0    automatic  2C3CDZAG9JH245656   rwd  full-size     sedan      silver   \n",
       "1    automatic           No value   4wd   No value  No value    No value   \n",
       "2    automatic           No value   fwd   No value     sedan       green   \n",
       "3    automatic  2GNFLFEK0H6212020   4wd    compact       SUV       white   \n",
       "4    automatic           No value   fwd  full-size     sedan       black   \n",
       "\n",
       "                                           image_url state latitude  longitude  \n",
       "0  https://images.craigslist.org/00l0l_36bjvq5Rkt...    ca  39.7480  -122.1980  \n",
       "1  https://images.craigslist.org/00Q0Q_6Y8C5Ch37Y...    mn  44.0032   -92.4835  \n",
       "2  https://images.craigslist.org/00B0B_g2vqZEHV6g...    oh  41.0774   -80.6409  \n",
       "3  https://images.craigslist.org/00N0N_8QelR31B6k...    mi  42.8395   -85.5297  \n",
       "4  https://images.craigslist.org/00w0w_iOm2ygIKhQ...    tx  29.6364   -95.2216  \n",
       "\n",
       "[5 rows x 21 columns]"
      ]
     },
     "execution_count": 52,
     "metadata": {},
     "output_type": "execute_result"
    }
   ],
   "source": [
    "vehicles.head()"
   ]
  },
  {
   "cell_type": "markdown",
   "metadata": {},
   "source": [
    "### Step 4 - Data Description"
   ]
  },
  {
   "cell_type": "markdown",
   "metadata": {},
   "source": [
    "In this dataset we have 17 categorical variables and 7 numerical variables, with the following description:\n",
    "\n",
    "**Categorical variables:**\n",
    "- `URL`: The url of the listing on Craiglist\n",
    "- `Region`: Region where the listing was posted\n",
    "- `region_url`: Craiglist's Region URL \n",
    "- `manufacturer`: Vehicle manufacturer\n",
    "- `model`: Vehicle model\n",
    "- `condition`: Vehicle condition according to the user (eg. 'excellent', 'like new')\n",
    "- `cylinders`: Number of cylinders of the vehicle\n",
    "- `fuel`: Vehicle fuel type\n",
    "- `title_status`: Status of the vehicle (eg. 'rebuilt', 'clean')\n",
    "- `transmission`: Transmission of the vehicle\n",
    "- `vin`: VIN number of the vehicle\n",
    "- `drive`: type of drive of the vehicle (eg. '4wd', 'fwd')\n",
    "- `size`: Size of the vehicle\n",
    "- `type`: Type of the vehicle (eg. 'SUV', 'pickup', 'sedan')\n",
    "- `paint_color`: Color of the paint of the vehicle\n",
    "- `image_url`: URL of the picture of the vehicle\n",
    "- `state`: State where the listing is posted\n",
    "\n",
    "**Numerical variables:**\n",
    "- `id`: id of the listing\n",
    "- `year`: vehicle's manufacturing year\n",
    "- `price`: **Response**, price of the vehicle\n",
    "- `odometer`: Mileage of the vehicle at the moment the listing was posted\n",
    "- `latitude`: Latitude of the state\n",
    "- `longitude`: Longitude of the state\n",
    "\n",
    "The following code shows the variables and their non-null count"
   ]
  },
  {
   "cell_type": "code",
   "execution_count": 53,
   "metadata": {},
   "outputs": [
    {
     "name": "stdout",
     "output_type": "stream",
     "text": [
      "<class 'pandas.core.frame.DataFrame'>\n",
      "RangeIndex: 337665 entries, 0 to 337664\n",
      "Data columns (total 21 columns):\n",
      "id              337665 non-null int64\n",
      "region          337665 non-null object\n",
      "price           337665 non-null int64\n",
      "year            336489 non-null float64\n",
      "manufacturer    337665 non-null object\n",
      "model           337665 non-null object\n",
      "condition       337665 non-null object\n",
      "cylinders       337665 non-null object\n",
      "fuel            337665 non-null object\n",
      "odometer        337665 non-null int64\n",
      "title_status    337665 non-null object\n",
      "transmission    337665 non-null object\n",
      "vin             337627 non-null object\n",
      "drive           337665 non-null object\n",
      "size            337665 non-null object\n",
      "type            337665 non-null object\n",
      "paint_color     337665 non-null object\n",
      "image_url       337665 non-null object\n",
      "state           337665 non-null object\n",
      "latitude        333339 non-null float64\n",
      "longitude       333339 non-null float64\n",
      "dtypes: float64(3), int64(3), object(15)\n",
      "memory usage: 54.1+ MB\n"
     ]
    }
   ],
   "source": [
    "vehicles.info()"
   ]
  },
  {
   "cell_type": "markdown",
   "metadata": {},
   "source": [
    "In order to explore the numerical variables, we used the pd.describe() function. Here we can observe that the maximum market price is $360'000.000 USD."
   ]
  },
  {
   "cell_type": "code",
   "execution_count": 54,
   "metadata": {},
   "outputs": [
    {
     "data": {
      "text/html": [
       "<div>\n",
       "<style scoped>\n",
       "    .dataframe tbody tr th:only-of-type {\n",
       "        vertical-align: middle;\n",
       "    }\n",
       "\n",
       "    .dataframe tbody tr th {\n",
       "        vertical-align: top;\n",
       "    }\n",
       "\n",
       "    .dataframe thead th {\n",
       "        text-align: right;\n",
       "    }\n",
       "</style>\n",
       "<table border=\"1\" class=\"dataframe\">\n",
       "  <thead>\n",
       "    <tr style=\"text-align: right;\">\n",
       "      <th></th>\n",
       "      <th>id</th>\n",
       "      <th>price</th>\n",
       "      <th>year</th>\n",
       "      <th>odometer</th>\n",
       "      <th>latitude</th>\n",
       "      <th>longitude</th>\n",
       "    </tr>\n",
       "  </thead>\n",
       "  <tbody>\n",
       "    <tr>\n",
       "      <th>count</th>\n",
       "      <td>3.376650e+05</td>\n",
       "      <td>337665.000000</td>\n",
       "      <td>336489.000000</td>\n",
       "      <td>3.376650e+05</td>\n",
       "      <td>333339.000000</td>\n",
       "      <td>333339.000000</td>\n",
       "    </tr>\n",
       "    <tr>\n",
       "      <th>mean</th>\n",
       "      <td>7.044209e+09</td>\n",
       "      <td>13917.212456</td>\n",
       "      <td>2010.247851</td>\n",
       "      <td>1.054179e+05</td>\n",
       "      <td>38.728247</td>\n",
       "      <td>-94.282943</td>\n",
       "    </tr>\n",
       "    <tr>\n",
       "      <th>std</th>\n",
       "      <td>4.927396e+06</td>\n",
       "      <td>10043.038993</td>\n",
       "      <td>6.938483</td>\n",
       "      <td>1.047352e+05</td>\n",
       "      <td>5.807304</td>\n",
       "      <td>17.808222</td>\n",
       "    </tr>\n",
       "    <tr>\n",
       "      <th>min</th>\n",
       "      <td>7.032558e+09</td>\n",
       "      <td>11.000000</td>\n",
       "      <td>1900.000000</td>\n",
       "      <td>1.000000e+00</td>\n",
       "      <td>-82.688100</td>\n",
       "      <td>-165.935000</td>\n",
       "    </tr>\n",
       "    <tr>\n",
       "      <th>25%</th>\n",
       "      <td>7.040862e+09</td>\n",
       "      <td>5995.000000</td>\n",
       "      <td>2007.000000</td>\n",
       "      <td>5.449700e+04</td>\n",
       "      <td>34.953500</td>\n",
       "      <td>-108.589000</td>\n",
       "    </tr>\n",
       "    <tr>\n",
       "      <th>50%</th>\n",
       "      <td>7.045341e+09</td>\n",
       "      <td>11700.000000</td>\n",
       "      <td>2012.000000</td>\n",
       "      <td>9.868000e+04</td>\n",
       "      <td>39.522000</td>\n",
       "      <td>-88.446500</td>\n",
       "    </tr>\n",
       "    <tr>\n",
       "      <th>75%</th>\n",
       "      <td>7.048573e+09</td>\n",
       "      <td>19486.000000</td>\n",
       "      <td>2015.000000</td>\n",
       "      <td>1.419070e+05</td>\n",
       "      <td>42.554600</td>\n",
       "      <td>-81.037100</td>\n",
       "    </tr>\n",
       "    <tr>\n",
       "      <th>max</th>\n",
       "      <td>7.050102e+09</td>\n",
       "      <td>49995.000000</td>\n",
       "      <td>2021.000000</td>\n",
       "      <td>1.000000e+07</td>\n",
       "      <td>77.609100</td>\n",
       "      <td>94.124800</td>\n",
       "    </tr>\n",
       "  </tbody>\n",
       "</table>\n",
       "</div>"
      ],
      "text/plain": [
       "                 id          price           year      odometer  \\\n",
       "count  3.376650e+05  337665.000000  336489.000000  3.376650e+05   \n",
       "mean   7.044209e+09   13917.212456    2010.247851  1.054179e+05   \n",
       "std    4.927396e+06   10043.038993       6.938483  1.047352e+05   \n",
       "min    7.032558e+09      11.000000    1900.000000  1.000000e+00   \n",
       "25%    7.040862e+09    5995.000000    2007.000000  5.449700e+04   \n",
       "50%    7.045341e+09   11700.000000    2012.000000  9.868000e+04   \n",
       "75%    7.048573e+09   19486.000000    2015.000000  1.419070e+05   \n",
       "max    7.050102e+09   49995.000000    2021.000000  1.000000e+07   \n",
       "\n",
       "            latitude      longitude  \n",
       "count  333339.000000  333339.000000  \n",
       "mean       38.728247     -94.282943  \n",
       "std         5.807304      17.808222  \n",
       "min       -82.688100    -165.935000  \n",
       "25%        34.953500    -108.589000  \n",
       "50%        39.522000     -88.446500  \n",
       "75%        42.554600     -81.037100  \n",
       "max        77.609100      94.124800  "
      ]
     },
     "execution_count": 54,
     "metadata": {},
     "output_type": "execute_result"
    }
   ],
   "source": [
    "vehicles.describe()"
   ]
  },
  {
   "cell_type": "markdown",
   "metadata": {},
   "source": [
    "You can see that the dataset contains prices that are bigger than what you expect from an used car's market price. During a closer revision, we realized these outliers are scrapping errors. Hence, we are going to remove these values to improve the EDA."
   ]
  },
  {
   "cell_type": "code",
   "execution_count": 28,
   "metadata": {},
   "outputs": [],
   "source": [
    "price_99 = vehicles.price.quantile(0.99)\n",
    "vehicles = vehicles.query('price < @price_99')"
   ]
  },
  {
   "cell_type": "markdown",
   "metadata": {},
   "source": [
    "Now it looks a bit better"
   ]
  },
  {
   "cell_type": "code",
   "execution_count": 29,
   "metadata": {},
   "outputs": [
    {
     "data": {
      "text/html": [
       "<div>\n",
       "<style scoped>\n",
       "    .dataframe tbody tr th:only-of-type {\n",
       "        vertical-align: middle;\n",
       "    }\n",
       "\n",
       "    .dataframe tbody tr th {\n",
       "        vertical-align: top;\n",
       "    }\n",
       "\n",
       "    .dataframe thead th {\n",
       "        text-align: right;\n",
       "    }\n",
       "</style>\n",
       "<table border=\"1\" class=\"dataframe\">\n",
       "  <thead>\n",
       "    <tr style=\"text-align: right;\">\n",
       "      <th></th>\n",
       "      <th>id</th>\n",
       "      <th>price</th>\n",
       "      <th>year</th>\n",
       "      <th>odometer</th>\n",
       "      <th>latitude</th>\n",
       "      <th>longitude</th>\n",
       "    </tr>\n",
       "  </thead>\n",
       "  <tbody>\n",
       "    <tr>\n",
       "      <th>count</th>\n",
       "      <td>3.361760e+05</td>\n",
       "      <td>336176.000000</td>\n",
       "      <td>335158.000000</td>\n",
       "      <td>3.361760e+05</td>\n",
       "      <td>331884.000000</td>\n",
       "      <td>331884.000000</td>\n",
       "    </tr>\n",
       "    <tr>\n",
       "      <th>mean</th>\n",
       "      <td>7.044206e+09</td>\n",
       "      <td>13491.981709</td>\n",
       "      <td>2010.216402</td>\n",
       "      <td>1.057580e+05</td>\n",
       "      <td>38.679118</td>\n",
       "      <td>-94.165392</td>\n",
       "    </tr>\n",
       "    <tr>\n",
       "      <th>std</th>\n",
       "      <td>4.925806e+06</td>\n",
       "      <td>9536.018241</td>\n",
       "      <td>6.922033</td>\n",
       "      <td>1.084625e+05</td>\n",
       "      <td>5.829982</td>\n",
       "      <td>17.769439</td>\n",
       "    </tr>\n",
       "    <tr>\n",
       "      <th>min</th>\n",
       "      <td>7.032558e+09</td>\n",
       "      <td>1.000000</td>\n",
       "      <td>1900.000000</td>\n",
       "      <td>1.000000e+00</td>\n",
       "      <td>-82.688100</td>\n",
       "      <td>-165.935000</td>\n",
       "    </tr>\n",
       "    <tr>\n",
       "      <th>25%</th>\n",
       "      <td>7.040861e+09</td>\n",
       "      <td>5950.000000</td>\n",
       "      <td>2007.000000</td>\n",
       "      <td>5.500000e+04</td>\n",
       "      <td>34.893875</td>\n",
       "      <td>-108.387000</td>\n",
       "    </tr>\n",
       "    <tr>\n",
       "      <th>50%</th>\n",
       "      <td>7.045335e+09</td>\n",
       "      <td>11383.000000</td>\n",
       "      <td>2012.000000</td>\n",
       "      <td>9.900000e+04</td>\n",
       "      <td>39.512900</td>\n",
       "      <td>-88.217800</td>\n",
       "    </tr>\n",
       "    <tr>\n",
       "      <th>75%</th>\n",
       "      <td>7.048566e+09</td>\n",
       "      <td>18995.000000</td>\n",
       "      <td>2015.000000</td>\n",
       "      <td>1.420000e+05</td>\n",
       "      <td>42.514300</td>\n",
       "      <td>-81.048100</td>\n",
       "    </tr>\n",
       "    <tr>\n",
       "      <th>max</th>\n",
       "      <td>7.050102e+09</td>\n",
       "      <td>43994.000000</td>\n",
       "      <td>2021.000000</td>\n",
       "      <td>1.000000e+07</td>\n",
       "      <td>77.609100</td>\n",
       "      <td>94.124800</td>\n",
       "    </tr>\n",
       "  </tbody>\n",
       "</table>\n",
       "</div>"
      ],
      "text/plain": [
       "                 id          price           year      odometer  \\\n",
       "count  3.361760e+05  336176.000000  335158.000000  3.361760e+05   \n",
       "mean   7.044206e+09   13491.981709    2010.216402  1.057580e+05   \n",
       "std    4.925806e+06    9536.018241       6.922033  1.084625e+05   \n",
       "min    7.032558e+09       1.000000    1900.000000  1.000000e+00   \n",
       "25%    7.040861e+09    5950.000000    2007.000000  5.500000e+04   \n",
       "50%    7.045335e+09   11383.000000    2012.000000  9.900000e+04   \n",
       "75%    7.048566e+09   18995.000000    2015.000000  1.420000e+05   \n",
       "max    7.050102e+09   43994.000000    2021.000000  1.000000e+07   \n",
       "\n",
       "            latitude      longitude  \n",
       "count  331884.000000  331884.000000  \n",
       "mean       38.679118     -94.165392  \n",
       "std         5.829982      17.769439  \n",
       "min       -82.688100    -165.935000  \n",
       "25%        34.893875    -108.387000  \n",
       "50%        39.512900     -88.217800  \n",
       "75%        42.514300     -81.048100  \n",
       "max        77.609100      94.124800  "
      ]
     },
     "execution_count": 29,
     "metadata": {},
     "output_type": "execute_result"
    }
   ],
   "source": [
    "vehicles.describe()"
   ]
  },
  {
   "cell_type": "markdown",
   "metadata": {},
   "source": [
    "In addition, we analyzed the frequency of the levels of the categorical variables"
   ]
  },
  {
   "cell_type": "code",
   "execution_count": 30,
   "metadata": {},
   "outputs": [],
   "source": [
    "numeric_features = ['year', 'odometer']\n",
    "categorical_features = ['state','manufacturer','model', 'condition', 'cylinders', 'fuel',\n",
    "                        'title_status', 'transmission', 'size', 'type', 'paint_color']"
   ]
  },
  {
   "cell_type": "code",
   "execution_count": 31,
   "metadata": {},
   "outputs": [
    {
     "name": "stdout",
     "output_type": "stream",
     "text": [
      "Feature: state\n",
      "------------\n",
      "This feature has 51 levels\n",
      "------------\n",
      "ca    33671\n",
      "fl    23174\n",
      "tx    17991\n",
      "ny    14473\n",
      "mi    14402\n",
      "oh    13451\n",
      "or    12084\n",
      "nc    11168\n",
      "pa    11113\n",
      "wa    10975\n",
      "wi    10640\n",
      "tn     9501\n",
      "co     9358\n",
      "va     8258\n",
      "ia     7673\n",
      "id     7303\n",
      "ma     7188\n",
      "mn     6968\n",
      "il     6879\n",
      "nj     6866\n",
      "mt     6156\n",
      "az     5846\n",
      "al     5778\n",
      "sc     5401\n",
      "ct     4929\n",
      "in     4902\n",
      "ks     4882\n",
      "mo     4410\n",
      "ga     4327\n",
      "ar     4159\n",
      "ok     4131\n",
      "ky     4089\n",
      "md     3052\n",
      "ak     2796\n",
      "la     2384\n",
      "nm     2350\n",
      "nh     2208\n",
      "vt     2207\n",
      "ri     2167\n",
      "nv     2046\n",
      "me     1942\n",
      "dc     1925\n",
      "hi     1892\n",
      "ne     1773\n",
      "ms     1673\n",
      "sd     1558\n",
      "ut     1142\n",
      "de      923\n",
      "wy      754\n",
      "wv      620\n",
      "nd      618\n",
      "Name: state, dtype: int64\n",
      "\n",
      "\n",
      "\n",
      "Feature: manufacturer\n",
      "------------\n",
      "This feature has 35 levels\n",
      "------------\n",
      "ford               59828\n",
      "chevrolet          47232\n",
      "toyota             26348\n",
      "nissan             17992\n",
      "honda              17677\n",
      "ram                17624\n",
      "jeep               16424\n",
      "gmc                14968\n",
      "dodge              12245\n",
      "No value           11270\n",
      "bmw                 9609\n",
      "hyundai             8209\n",
      "mercedes-benz       8062\n",
      "subaru              7489\n",
      "volkswagen          7200\n",
      "kia                 6037\n",
      "chrysler            5901\n",
      "cadillac            4826\n",
      "lexus               4480\n",
      "buick               4096\n",
      "mazda               4059\n",
      "audi                3998\n",
      "acura               2733\n",
      "infiniti            2680\n",
      "lincoln             2281\n",
      "pontiac             2211\n",
      "volvo               2130\n",
      "mitsubishi          1934\n",
      "mini                1643\n",
      "rover               1231\n",
      "saturn              1169\n",
      "mercury             1146\n",
      "jaguar               739\n",
      "fiat                 571\n",
      "harley-davidson      134\n",
      "Name: manufacturer, dtype: int64\n",
      "\n",
      "\n",
      "\n",
      "Feature: model\n",
      "------------\n",
      "This feature has 26108 levels\n",
      "------------\n",
      "f-150                                                           7877\n",
      "silverado 1500                                                  4951\n",
      "1500                                                            4910\n",
      "No value                                                        3412\n",
      "silverado                                                       3159\n",
      "wrangler                                                        2757\n",
      "2500                                                            2688\n",
      "camry                                                           2543\n",
      "accord                                                          2512\n",
      "altima                                                          2507\n",
      "grand cherokee                                                  2440\n",
      "escape                                                          2392\n",
      "tacoma                                                          2355\n",
      "explorer                                                        2261\n",
      "civic                                                           2147\n",
      "sierra 1500                                                     2040\n",
      "tahoe                                                           1985\n",
      "fusion                                                          1901\n",
      "focus                                                           1859\n",
      "corolla                                                         1808\n",
      "equinox                                                         1794\n",
      "silverado 2500hd                                                1782\n",
      "mustang                                                         1781\n",
      "malibu                                                          1737\n",
      "cr-v                                                            1689\n",
      "f-250                                                           1687\n",
      "tundra                                                          1658\n",
      "grand caravan                                                   1646\n",
      "impala                                                          1596\n",
      "sierra                                                          1593\n",
      "                                                                ... \n",
      "s-10 ls 2dr                                                        1\n",
      "santa fe sport 2.4 awd                                             1\n",
      "mountaineer convenience                                            1\n",
      "mustang 2014                                                       1\n",
      "f-150 fx4 4wd                                                      1\n",
      "cx60                                                               1\n",
      "MERCEDEZ BENZ ML 500                                               1\n",
      "3 series m3ci leather                                              1\n",
      "caprice police                                                     1\n",
      "camaro 2dr cpe 2lt                                                 1\n",
      "a5 2.0t premium plus conv.                                         1\n",
      "370 z                                                              1\n",
      "pilot ex awd 4x4                                                   1\n",
      "optima gdi ex                                                      1\n",
      "sports                                                             1\n",
      "Glastron Other                                                     1\n",
      "cts-v wagon                                                        1\n",
      "ltz                                                                1\n",
      "accord sdn lx-p                                                    1\n",
      "f-150 raptor svt                                                   1\n",
      "Scion iQ Base                                                      1\n",
      "telluride ex suv                                                   1\n",
      "Hyunda Sonata                                                      1\n",
      "3 sedan                                                            1\n",
      "f-150 supercrew automatic                                          1\n",
      "grand cherokee high altitu                                         1\n",
      "pilot exl pilot                                                    1\n",
      "1500 4dr quad cab 160.5\" wb slt                                    1\n",
      "Rav4                                                               1\n",
      "cts sedan v-sport premium rwd (cadillac certified) automatic       1\n",
      "Name: model, Length: 26108, dtype: int64\n",
      "\n",
      "\n",
      "\n",
      "Feature: condition\n",
      "------------\n",
      "This feature has 7 levels\n",
      "------------\n",
      "No value     134764\n",
      "excellent    101366\n",
      "good          73521\n",
      "like new      19286\n",
      "fair           6233\n",
      "new             609\n",
      "salvage         397\n",
      "Name: condition, dtype: int64\n",
      "\n",
      "\n",
      "\n",
      "Feature: cylinders\n",
      "------------\n",
      "This feature has 9 levels\n",
      "------------\n",
      "No value        112291\n",
      "6 cylinders      81774\n",
      "4 cylinders      70766\n",
      "8 cylinders      66182\n",
      "5 cylinders       2095\n",
      "10 cylinders      1782\n",
      "other              801\n",
      "3 cylinders        399\n",
      "12 cylinders        86\n",
      "Name: cylinders, dtype: int64\n",
      "\n",
      "\n",
      "\n",
      "Feature: fuel\n",
      "------------\n",
      "This feature has 6 levels\n",
      "------------\n",
      "gas         294417\n",
      "diesel       24788\n",
      "other        10651\n",
      "No value      3095\n",
      "hybrid        2866\n",
      "electric       359\n",
      "Name: fuel, dtype: int64\n",
      "\n",
      "\n",
      "\n",
      "Feature: title_status\n",
      "------------\n",
      "This feature has 7 levels\n",
      "------------\n",
      "clean         320835\n",
      "rebuilt         7361\n",
      "salvage         3479\n",
      "No value        2425\n",
      "lien            1893\n",
      "missing          143\n",
      "parts only        40\n",
      "Name: title_status, dtype: int64\n",
      "\n",
      "\n",
      "\n",
      "Feature: transmission\n",
      "------------\n",
      "This feature has 4 levels\n",
      "------------\n",
      "automatic    302678\n",
      "manual        20591\n",
      "other         10242\n",
      "No value       2665\n",
      "Name: transmission, dtype: int64\n",
      "\n",
      "\n",
      "\n",
      "Feature: size\n",
      "------------\n",
      "This feature has 5 levels\n",
      "------------\n",
      "No value       214284\n",
      "full-size       65868\n",
      "mid-size        34597\n",
      "compact         18532\n",
      "sub-compact      2895\n",
      "Name: size, dtype: int64\n",
      "\n",
      "\n",
      "\n",
      "Feature: type\n",
      "------------\n",
      "This feature has 14 levels\n",
      "------------\n",
      "sedan          69665\n",
      "SUV            68755\n",
      "No value       64841\n",
      "pickup         37034\n",
      "truck          34305\n",
      "coupe          13487\n",
      "hatchback       9942\n",
      "other           9594\n",
      "wagon           8608\n",
      "van             7972\n",
      "mini-van        5533\n",
      "convertible     5475\n",
      "bus              503\n",
      "offroad          462\n",
      "Name: type, dtype: int64\n",
      "\n",
      "\n",
      "\n",
      "Feature: paint_color\n",
      "------------\n",
      "This feature has 13 levels\n",
      "------------\n",
      "No value    82289\n",
      "white       64729\n",
      "black       51510\n",
      "silver      38681\n",
      "blue        25680\n",
      "red         25206\n",
      "grey        24773\n",
      "custom       6964\n",
      "green        6765\n",
      "brown        5713\n",
      "yellow       1786\n",
      "orange       1467\n",
      "purple        613\n",
      "Name: paint_color, dtype: int64\n",
      "\n",
      "\n",
      "\n"
     ]
    }
   ],
   "source": [
    "for feat in categorical_features:\n",
    "    print('Feature: %s' %(feat))\n",
    "    print('------------')\n",
    "    print(f'This feature has {len(vehicles[feat].unique())} levels')\n",
    "    print('------------')\n",
    "    print(vehicles[feat].value_counts())\n",
    "    print('\\n\\n')"
   ]
  },
  {
   "cell_type": "markdown",
   "metadata": {},
   "source": [
    "### Step 5 - Data Visualizations"
   ]
  },
  {
   "cell_type": "markdown",
   "metadata": {},
   "source": [
    "#### Correlations"
   ]
  },
  {
   "cell_type": "code",
   "execution_count": 40,
   "metadata": {},
   "outputs": [
    {
     "data": {
      "application/vnd.vegalite.v3+json": {
       "$schema": "https://vega.github.io/schema/vega-lite/v3.4.0.json",
       "config": {
        "mark": {
         "tooltip": null
        },
        "view": {
         "height": 300,
         "width": 400
        }
       },
       "data": {
        "name": "data-c3d3f43e0dc8d933ad274f978ee07f44"
       },
       "datasets": {
        "data-c3d3f43e0dc8d933ad274f978ee07f44": [
         {
          "Correlation": 1,
          "Var1": "id",
          "Var2": "id"
         },
         {
          "Correlation": -0.037996592141130756,
          "Var1": "price",
          "Var2": "id"
         },
         {
          "Correlation": -0.015119190045047073,
          "Var1": "year",
          "Var2": "id"
         },
         {
          "Correlation": -0.0033993670493981196,
          "Var1": "odometer",
          "Var2": "id"
         },
         {
          "Correlation": -0.03878417598409816,
          "Var1": "lat",
          "Var2": "id"
         },
         {
          "Correlation": -0.09459804386835345,
          "Var1": "long",
          "Var2": "id"
         },
         {
          "Correlation": -0.037996592141130756,
          "Var1": "id",
          "Var2": "price"
         },
         {
          "Correlation": 1,
          "Var1": "price",
          "Var2": "price"
         },
         {
          "Correlation": 0.36931875267999137,
          "Var1": "year",
          "Var2": "price"
         },
         {
          "Correlation": -0.2628537057006974,
          "Var1": "odometer",
          "Var2": "price"
         },
         {
          "Correlation": 0.043218113388226564,
          "Var1": "lat",
          "Var2": "price"
         },
         {
          "Correlation": -0.13845464375893304,
          "Var1": "long",
          "Var2": "price"
         },
         {
          "Correlation": -0.015119190045047073,
          "Var1": "id",
          "Var2": "year"
         },
         {
          "Correlation": 0.36931875267999137,
          "Var1": "price",
          "Var2": "year"
         },
         {
          "Correlation": 1,
          "Var1": "year",
          "Var2": "year"
         },
         {
          "Correlation": -0.25880106203742237,
          "Var1": "odometer",
          "Var2": "year"
         },
         {
          "Correlation": 0.020859091866993643,
          "Var1": "lat",
          "Var2": "year"
         },
         {
          "Correlation": -0.014111075734761452,
          "Var1": "long",
          "Var2": "year"
         },
         {
          "Correlation": -0.0033993670493981196,
          "Var1": "id",
          "Var2": "odometer"
         },
         {
          "Correlation": -0.2628537057006974,
          "Var1": "price",
          "Var2": "odometer"
         },
         {
          "Correlation": -0.25880106203742237,
          "Var1": "year",
          "Var2": "odometer"
         },
         {
          "Correlation": 1,
          "Var1": "odometer",
          "Var2": "odometer"
         },
         {
          "Correlation": -0.008328375245900084,
          "Var1": "lat",
          "Var2": "odometer"
         },
         {
          "Correlation": 0.04095467933485306,
          "Var1": "long",
          "Var2": "odometer"
         },
         {
          "Correlation": -0.03878417598409816,
          "Var1": "id",
          "Var2": "lat"
         },
         {
          "Correlation": 0.043218113388226564,
          "Var1": "price",
          "Var2": "lat"
         },
         {
          "Correlation": 0.020859091866993643,
          "Var1": "year",
          "Var2": "lat"
         },
         {
          "Correlation": -0.008328375245900084,
          "Var1": "odometer",
          "Var2": "lat"
         },
         {
          "Correlation": 1,
          "Var1": "lat",
          "Var2": "lat"
         },
         {
          "Correlation": -0.14083531328603902,
          "Var1": "long",
          "Var2": "lat"
         },
         {
          "Correlation": -0.09459804386835345,
          "Var1": "id",
          "Var2": "long"
         },
         {
          "Correlation": -0.13845464375893304,
          "Var1": "price",
          "Var2": "long"
         },
         {
          "Correlation": -0.014111075734761452,
          "Var1": "year",
          "Var2": "long"
         },
         {
          "Correlation": 0.04095467933485306,
          "Var1": "odometer",
          "Var2": "long"
         },
         {
          "Correlation": -0.14083531328603902,
          "Var1": "lat",
          "Var2": "long"
         },
         {
          "Correlation": 1,
          "Var1": "long",
          "Var2": "long"
         }
        ]
       },
       "height": 400,
       "layer": [
        {
         "encoding": {
          "color": {
           "field": "Correlation",
           "scale": {
            "scheme": "viridis"
           },
           "type": "quantitative"
          },
          "x": {
           "field": "Var2",
           "type": "nominal"
          },
          "y": {
           "field": "Var1",
           "type": "nominal"
          }
         },
         "mark": "rect"
        },
        {
         "encoding": {
          "color": {
           "condition": {
            "test": "(datum.Correlation >= 0.95)",
            "value": "black"
           },
           "value": "white"
          },
          "text": {
           "field": "Correlation",
           "format": ".2",
           "type": "quantitative"
          },
          "x": {
           "field": "Var2",
           "type": "nominal"
          },
          "y": {
           "field": "Var1",
           "type": "nominal"
          }
         },
         "mark": {
          "baseline": "middle",
          "type": "text"
         }
        }
       ],
       "title": "Pearson's correlation",
       "width": 400
      },
      "image/png": "[encoded data removed]",
      "text/plain": [
       "<VegaLite 3 object>\n",
       "\n",
       "If you see this message, it means the renderer has not been properly enabled\n",
       "for the frontend that you are using. For more information, see\n",
       "https://altair-viz.github.io/user_guide/troubleshooting.html\n"
      ]
     },
     "execution_count": 40,
     "metadata": {},
     "output_type": "execute_result"
    }
   ],
   "source": [
    "vehicles_corr = vehicles.corr().reset_index().rename(columns = {'index':'Var1'}).melt(id_vars = ['Var1'],\n",
    "                                                                                    value_name = 'Correlation',\n",
    "                                                                                    var_name = 'Var2')\n",
    "base = alt.Chart(vehicles_corr).encode(\n",
    "    alt.Y('Var1:N'),\n",
    "    alt.X('Var2:N')\n",
    ") \n",
    "\n",
    "heatmap = base.mark_rect().encode(\n",
    "     alt.Color('Correlation:Q',\n",
    "                scale=alt.Scale(scheme='viridis'))\n",
    ")\n",
    "\n",
    "text = base.mark_text(baseline='middle').encode(\n",
    "    text=alt.Text('Correlation:Q', format='.2'),\n",
    "    color=alt.condition(\n",
    "        alt.datum.Correlation >= 0.95,\n",
    "        alt.value('black'),\n",
    "        alt.value('white')\n",
    "    )\n",
    ")\n",
    "\n",
    "(heatmap + text).properties(\n",
    "    width = 400,\n",
    "    height = 400,\n",
    "    title = \"Pearson's correlation\"\n",
    ")"
   ]
  },
  {
   "cell_type": "markdown",
   "metadata": {},
   "source": [
    "#### Frequency map"
   ]
  },
  {
   "cell_type": "code",
   "execution_count": 41,
   "metadata": {},
   "outputs": [
    {
     "ename": "KeyError",
     "evalue": "['latitude', 'longitude']",
     "output_type": "error",
     "traceback": [
      "\u001b[1;31m---------------------------------------------------------------------------\u001b[0m",
      "\u001b[1;31mKeyError\u001b[0m                                  Traceback (most recent call last)",
      "\u001b[1;32m<ipython-input-41-e695da3c4b61>\u001b[0m in \u001b[0;36m<module>\u001b[1;34m\u001b[0m\n\u001b[0;32m      1\u001b[0m \u001b[0mvehicles\u001b[0m\u001b[1;33m[\u001b[0m\u001b[1;34m'state'\u001b[0m\u001b[1;33m]\u001b[0m \u001b[1;33m=\u001b[0m \u001b[0mvehicles\u001b[0m\u001b[1;33m[\u001b[0m\u001b[1;34m'state'\u001b[0m\u001b[1;33m]\u001b[0m\u001b[1;33m.\u001b[0m\u001b[0mstr\u001b[0m\u001b[1;33m.\u001b[0m\u001b[0mupper\u001b[0m\u001b[1;33m(\u001b[0m\u001b[1;33m)\u001b[0m\u001b[1;33m\u001b[0m\u001b[1;33m\u001b[0m\u001b[0m\n\u001b[1;32m----> 2\u001b[1;33m \u001b[0mvehicles_position\u001b[0m \u001b[1;33m=\u001b[0m \u001b[0mvehicles\u001b[0m\u001b[1;33m.\u001b[0m\u001b[0mdropna\u001b[0m\u001b[1;33m(\u001b[0m\u001b[0msubset\u001b[0m \u001b[1;33m=\u001b[0m \u001b[1;33m[\u001b[0m\u001b[1;34m'latitude'\u001b[0m\u001b[1;33m,\u001b[0m \u001b[1;34m'longitude'\u001b[0m\u001b[1;33m]\u001b[0m\u001b[1;33m)\u001b[0m\u001b[1;33m[\u001b[0m\u001b[1;33m[\u001b[0m\u001b[1;34m'state'\u001b[0m\u001b[1;33m,\u001b[0m\u001b[1;34m'latitude'\u001b[0m\u001b[1;33m,\u001b[0m \u001b[1;34m'longitude'\u001b[0m\u001b[1;33m,\u001b[0m\u001b[1;34m'price'\u001b[0m\u001b[1;33m,\u001b[0m \u001b[1;34m'id'\u001b[0m\u001b[1;33m]\u001b[0m\u001b[1;33m]\u001b[0m\u001b[1;33m\u001b[0m\u001b[1;33m\u001b[0m\u001b[0m\n\u001b[0m\u001b[0;32m      3\u001b[0m \u001b[1;33m\u001b[0m\u001b[0m\n\u001b[0;32m      4\u001b[0m \u001b[0mvehicles_position\u001b[0m \u001b[1;33m=\u001b[0m \u001b[0mvehicles_position\u001b[0m\u001b[1;33m.\u001b[0m\u001b[0mgroupby\u001b[0m\u001b[1;33m(\u001b[0m\u001b[0mby\u001b[0m \u001b[1;33m=\u001b[0m \u001b[1;34m\"state\"\u001b[0m\u001b[1;33m)\u001b[0m\u001b[0;31m\\\u001b[0m\u001b[1;33m\u001b[0m\u001b[1;33m\u001b[0m\u001b[0m\n\u001b[0;32m      5\u001b[0m                                      .agg({'price': 'mean',\n",
      "\u001b[1;32m~\\Anaconda3\\lib\\site-packages\\pandas\\core\\frame.py\u001b[0m in \u001b[0;36mdropna\u001b[1;34m(self, axis, how, thresh, subset, inplace)\u001b[0m\n\u001b[0;32m   4579\u001b[0m                 \u001b[0mcheck\u001b[0m \u001b[1;33m=\u001b[0m \u001b[0mindices\u001b[0m \u001b[1;33m==\u001b[0m \u001b[1;33m-\u001b[0m\u001b[1;36m1\u001b[0m\u001b[1;33m\u001b[0m\u001b[1;33m\u001b[0m\u001b[0m\n\u001b[0;32m   4580\u001b[0m                 \u001b[1;32mif\u001b[0m \u001b[0mcheck\u001b[0m\u001b[1;33m.\u001b[0m\u001b[0many\u001b[0m\u001b[1;33m(\u001b[0m\u001b[1;33m)\u001b[0m\u001b[1;33m:\u001b[0m\u001b[1;33m\u001b[0m\u001b[1;33m\u001b[0m\u001b[0m\n\u001b[1;32m-> 4581\u001b[1;33m                     \u001b[1;32mraise\u001b[0m \u001b[0mKeyError\u001b[0m\u001b[1;33m(\u001b[0m\u001b[0mlist\u001b[0m\u001b[1;33m(\u001b[0m\u001b[0mnp\u001b[0m\u001b[1;33m.\u001b[0m\u001b[0mcompress\u001b[0m\u001b[1;33m(\u001b[0m\u001b[0mcheck\u001b[0m\u001b[1;33m,\u001b[0m \u001b[0msubset\u001b[0m\u001b[1;33m)\u001b[0m\u001b[1;33m)\u001b[0m\u001b[1;33m)\u001b[0m\u001b[1;33m\u001b[0m\u001b[1;33m\u001b[0m\u001b[0m\n\u001b[0m\u001b[0;32m   4582\u001b[0m                 \u001b[0magg_obj\u001b[0m \u001b[1;33m=\u001b[0m \u001b[0mself\u001b[0m\u001b[1;33m.\u001b[0m\u001b[0mtake\u001b[0m\u001b[1;33m(\u001b[0m\u001b[0mindices\u001b[0m\u001b[1;33m,\u001b[0m \u001b[0maxis\u001b[0m\u001b[1;33m=\u001b[0m\u001b[0magg_axis\u001b[0m\u001b[1;33m)\u001b[0m\u001b[1;33m\u001b[0m\u001b[1;33m\u001b[0m\u001b[0m\n\u001b[0;32m   4583\u001b[0m \u001b[1;33m\u001b[0m\u001b[0m\n",
      "\u001b[1;31mKeyError\u001b[0m: ['latitude', 'longitude']"
     ]
    }
   ],
   "source": [
    "vehicles['state'] = vehicles['state'].str.upper()\n",
    "vehicles_position = vehicles.dropna(subset = ['latitude', 'longitude'])[['state','latitude', 'longitude','price', 'id']]\n",
    "\n",
    "vehicles_position = vehicles_position.groupby(by = \"state\")\\\n",
    "                                     .agg({'price': 'mean',\n",
    "                                          'longitude' : 'mean',\n",
    "                                          'latitude' : 'mean',\n",
    "                                          'id': 'count'})\\\n",
    "                                     .reset_index()"
   ]
  },
  {
   "cell_type": "code",
   "execution_count": 43,
   "metadata": {},
   "outputs": [
    {
     "data": {
      "application/vnd.vegalite.v3+json": {
       "$schema": "https://vega.github.io/schema/vega-lite/v3.4.0.json",
       "config": {
        "mark": {
         "tooltip": null
        },
        "view": {
         "height": 300,
         "width": 400
        }
       },
       "datasets": {
        "data-d0cd5e00b16420c6d6091991cf7d4da4": [
         {
          "id": 3420,
          "latitude": 61.19708622807004,
          "longitude": -149.02369903508654,
          "price": 17734.241520467836,
          "state": "AK"
         },
         {
          "id": 7387,
          "latitude": 32.97360544199301,
          "longitude": -87.03458374170935,
          "price": 13600.008663868959,
          "state": "AL"
         },
         {
          "id": 6328,
          "latitude": 35.82267270859633,
          "longitude": -93.43907517382944,
          "price": 12361.511061946903,
          "state": "AR"
         },
         {
          "id": 7564,
          "latitude": 33.35243918297185,
          "longitude": -111.65642268640828,
          "price": 11584.899656266525,
          "state": "AZ"
         },
         {
          "id": 46418,
          "latitude": 36.318928711275746,
          "longitude": -119.21094235856326,
          "price": 12102.513076823647,
          "state": "CA"
         },
         {
          "id": 11170,
          "latitude": 39.40037783348255,
          "longitude": -104.69633758280864,
          "price": 13813.748880931065,
          "state": "CO"
         },
         {
          "id": 5858,
          "latitude": 41.5231875508699,
          "longitude": -73.0278143735051,
          "price": 10271.276032775691,
          "state": "CT"
         },
         {
          "id": 2638,
          "latitude": 38.7782978013646,
          "longitude": -77.33439423805945,
          "price": 9448.044351781653,
          "state": "DC"
         },
         {
          "id": 1241,
          "latitude": 39.63226478646252,
          "longitude": -75.34688565672846,
          "price": 11447.54230459307,
          "state": "DE"
         },
         {
          "id": 31285,
          "latitude": 28.569941013584064,
          "longitude": -82.21644408789946,
          "price": 11412.861946619785,
          "state": "FL"
         },
         {
          "id": 6272,
          "latitude": 33.295957142856686,
          "longitude": -83.77646399234762,
          "price": 10699.551020408164,
          "state": "GA"
         },
         {
          "id": 2628,
          "latitude": 21.23823211567737,
          "longitude": -157.05713614916158,
          "price": 13810.567351598174,
          "state": "HI"
         },
         {
          "id": 9869,
          "latitude": 41.80248584355033,
          "longitude": -94.03939838889426,
          "price": 11520.780322221097,
          "state": "IA"
         },
         {
          "id": 8909,
          "latitude": 45.62186470984521,
          "longitude": -116.43263031428933,
          "price": 15256.633179930408,
          "state": "ID"
         },
         {
          "id": 10288,
          "latitude": 40.26179670295478,
          "longitude": -89.30801520217511,
          "price": 10091.219673405909,
          "state": "IL"
         },
         {
          "id": 6234,
          "latitude": 40.12673775264634,
          "longitude": -86.03711243182589,
          "price": 11291.211742059673,
          "state": "IN"
         },
         {
          "id": 6242,
          "latitude": 38.22813531688468,
          "longitude": -95.4895708586993,
          "price": 13698.95546299263,
          "state": "KS"
         },
         {
          "id": 5187,
          "latitude": 37.939299248120534,
          "longitude": -85.10192668209089,
          "price": 12152.588201272412,
          "state": "KY"
         },
         {
          "id": 3879,
          "latitude": 30.735531760763052,
          "longitude": -91.23941835524664,
          "price": 9862.625676720805,
          "state": "LA"
         },
         {
          "id": 8462,
          "latitude": 42.178044953910934,
          "longitude": -71.71313265185643,
          "price": 11080.543606712361,
          "state": "MA"
         },
         {
          "id": 4605,
          "latitude": 38.97968247556984,
          "longitude": -76.96147057546175,
          "price": 9913.053854505972,
          "state": "MD"
         },
         {
          "id": 2586,
          "latitude": 43.47657788089761,
          "longitude": -70.74251867749435,
          "price": 11362.162412993039,
          "state": "ME"
         },
         {
          "id": 18703,
          "latitude": 42.93824554184023,
          "longitude": -84.51231877239249,
          "price": 11127.715927926001,
          "state": "MI"
         },
         {
          "id": 8806,
          "latitude": 45.49675999432191,
          "longitude": -94.01634784237851,
          "price": 12097.885191914604,
          "state": "MN"
         },
         {
          "id": 5953,
          "latitude": 37.835016615152874,
          "longitude": -93.06032262724698,
          "price": 12167.22005711406,
          "state": "MO"
         },
         {
          "id": 2228,
          "latitude": 32.55265991472163,
          "longitude": -88.79682253141938,
          "price": 12851.184021543986,
          "state": "MS"
         },
         {
          "id": 6996,
          "latitude": 46.91536282161218,
          "longitude": -113.72562412421217,
          "price": 18280.795454545456,
          "state": "MT"
         },
         {
          "id": 15681,
          "latitude": 35.47250978764035,
          "longitude": -79.99913751673942,
          "price": 10884.533384350489,
          "state": "NC"
         },
         {
          "id": 726,
          "latitude": 44.845354407713685,
          "longitude": -99.46937865013774,
          "price": 17101.177685950413,
          "state": "ND"
         },
         {
          "id": 2323,
          "latitude": 40.93694330606998,
          "longitude": -97.05928222126745,
          "price": 14988.217391304348,
          "state": "NE"
         },
         {
          "id": 2607,
          "latitude": 42.96943398542405,
          "longitude": -71.45472846183364,
          "price": 11392.322593018796,
          "state": "NH"
         },
         {
          "id": 9107,
          "latitude": 40.33386962446398,
          "longitude": -74.58722642363088,
          "price": 10019.791259470736,
          "state": "NJ"
         },
         {
          "id": 3643,
          "latitude": 35.07902860279967,
          "longitude": -106.06963511391749,
          "price": 11829.02607740873,
          "state": "NM"
         },
         {
          "id": 2676,
          "latitude": 36.11132410313925,
          "longitude": -115.14409204035887,
          "price": 12522.534005979072,
          "state": "NV"
         },
         {
          "id": 19524,
          "latitude": 42.13324773919411,
          "longitude": -75.45647381274387,
          "price": 10567.789489858635,
          "state": "NY"
         },
         {
          "id": 17114,
          "latitude": 40.501174938646294,
          "longitude": -82.82539736473154,
          "price": 9590.175587238518,
          "state": "OH"
         },
         {
          "id": 5688,
          "latitude": 35.54957575597732,
          "longitude": -96.70864131505061,
          "price": 12106.973101265823,
          "state": "OK"
         },
         {
          "id": 16964,
          "latitude": 44.58592072624339,
          "longitude": -122.55932380688228,
          "price": 12256.369075689696,
          "state": "OR"
         },
         {
          "id": 13704,
          "latitude": 40.44891567607982,
          "longitude": -77.11611587857503,
          "price": 10067.84252772913,
          "state": "PA"
         },
         {
          "id": 2645,
          "latitude": 41.86009345935726,
          "longitude": -71.52301546313772,
          "price": 11841.93459357278,
          "state": "RI"
         },
         {
          "id": 7215,
          "latitude": 34.12926309078261,
          "longitude": -81.07929865557836,
          "price": 12598.028135828135,
          "state": "SC"
         },
         {
          "id": 2036,
          "latitude": 43.73182652259331,
          "longitude": -98.43252883104132,
          "price": 13853.821218074656,
          "state": "SD"
         },
         {
          "id": 11867,
          "latitude": 35.544950684249955,
          "longitude": -86.16553873514745,
          "price": 13632.777281537035,
          "state": "TN"
         },
         {
          "id": 25930,
          "latitude": 30.776174223292433,
          "longitude": -98.6059632143853,
          "price": 13395.943270343232,
          "state": "TX"
         },
         {
          "id": 1390,
          "latitude": 38.269047374100786,
          "longitude": -111.61674719424407,
          "price": 17746.010071942444,
          "state": "UT"
         },
         {
          "id": 10850,
          "latitude": 37.58041436405471,
          "longitude": -77.9220551612895,
          "price": 9889.220092165899,
          "state": "VA"
         },
         {
          "id": 2557,
          "latitude": 43.81256800938569,
          "longitude": -72.86074317559617,
          "price": 13604.419241298396,
          "state": "VT"
         },
         {
          "id": 13698,
          "latitude": 47.319296459337195,
          "longitude": -120.61974531245708,
          "price": 15945.37662432472,
          "state": "WA"
         },
         {
          "id": 13163,
          "latitude": 43.57813114031733,
          "longitude": -88.94196541137903,
          "price": 11277.791612854213,
          "state": "WI"
         },
         {
          "id": 1435,
          "latitude": 38.93417317073177,
          "longitude": -80.35382425087103,
          "price": 7638.900348432056,
          "state": "WV"
         },
         {
          "id": 936,
          "latitude": 41.28973728632474,
          "longitude": -105.5307786324792,
          "price": 16413.845085470086,
          "state": "WY"
         }
        ]
       },
       "layer": [
        {
         "data": {
          "format": {
           "feature": "states",
           "type": "topojson"
          },
          "url": "https://vega.github.io/vega-datasets/data/us-10m.json"
         },
         "height": 300,
         "mark": {
          "fill": "lightgray",
          "stroke": "white",
          "type": "geoshape"
         },
         "projection": {
          "type": "albersUsa"
         },
         "width": 500
        },
        {
         "data": {
          "name": "data-d0cd5e00b16420c6d6091991cf7d4da4"
         },
         "encoding": {
          "color": {
           "value": "steelblue"
          },
          "latitude": {
           "field": "latitude",
           "type": "quantitative"
          },
          "longitude": {
           "field": "longitude",
           "type": "quantitative"
          },
          "size": {
           "field": "count",
           "title": "Number of vehicles per state",
           "type": "quantitative"
          },
          "tooltip": [
           {
            "field": "state",
            "title": "state",
            "type": "nominal"
           },
           {
            "field": "count",
            "format": ",.2f",
            "title": "Price",
            "type": "quantitative"
           }
          ]
         },
         "mark": "circle",
         "title": "Number of vehicles per state",
         "transform": [
          {
           "aggregate": [
            {
             "as": "latitude",
             "field": "latitude",
             "op": "mean"
            },
            {
             "as": "longitude",
             "field": "longitude",
             "op": "mean"
            },
            {
             "as": "count",
             "field": "id",
             "op": "sum"
            }
           ],
           "groupby": [
            "state"
           ]
          }
         ]
        }
       ]
      },
      "image/png": "[encoded data removed]",
      "text/plain": [
       "<VegaLite 3 object>\n",
       "\n",
       "If you see this message, it means the renderer has not been properly enabled\n",
       "for the frontend that you are using. For more information, see\n",
       "https://altair-viz.github.io/user_guide/troubleshooting.html\n"
      ]
     },
     "execution_count": 43,
     "metadata": {},
     "output_type": "execute_result"
    }
   ],
   "source": [
    "states = alt.topo_feature(data.us_10m.url, feature='states')\n",
    "\n",
    "# US states background\n",
    "background = alt.Chart(states).mark_geoshape(\n",
    "    fill='lightgray',\n",
    "    stroke='white'\n",
    ").properties(\n",
    "    width=500,\n",
    "    height=300\n",
    ").project('albersUsa')\n",
    "\n",
    "points = alt.Chart(vehicles_position).transform_aggregate(\n",
    "    latitude='mean(latitude)',\n",
    "    longitude='mean(longitude)',\n",
    "    count='sum(id)',\n",
    "    groupby=['state']\n",
    ").mark_circle().encode(\n",
    "    longitude='longitude:Q',\n",
    "    latitude='latitude:Q',\n",
    "    size=alt.Size('count:Q', title='Number of vehicles per state'),\n",
    "    color=alt.value('steelblue'),\n",
    "    tooltip=[alt.Tooltip('state:N', title='state'), alt.Tooltip('count:Q', title='Price', format=',.2f')]\n",
    ").properties(\n",
    "    title='Number of vehicles per state'\n",
    ")\n",
    "background + points"
   ]
  },
  {
   "cell_type": "code",
   "execution_count": 76,
   "metadata": {},
   "outputs": [
    {
     "data": {
      "application/vnd.vegalite.v3+json": {
       "$schema": "https://vega.github.io/schema/vega-lite/v3.4.0.json",
       "config": {
        "mark": {
         "tooltip": null
        },
        "view": {
         "height": 300,
         "width": 400
        }
       },
       "datasets": {
        "data-d0cd5e00b16420c6d6091991cf7d4da4": [
         {
          "id": 3420,
          "latitude": 61.19708622807004,
          "longitude": -149.02369903508654,
          "price": 17734.241520467836,
          "state": "AK"
         },
         {
          "id": 7387,
          "latitude": 32.97360544199301,
          "longitude": -87.03458374170935,
          "price": 13600.008663868959,
          "state": "AL"
         },
         {
          "id": 6328,
          "latitude": 35.82267270859633,
          "longitude": -93.43907517382944,
          "price": 12361.511061946903,
          "state": "AR"
         },
         {
          "id": 7564,
          "latitude": 33.35243918297185,
          "longitude": -111.65642268640828,
          "price": 11584.899656266525,
          "state": "AZ"
         },
         {
          "id": 46418,
          "latitude": 36.318928711275746,
          "longitude": -119.21094235856326,
          "price": 12102.513076823647,
          "state": "CA"
         },
         {
          "id": 11170,
          "latitude": 39.40037783348255,
          "longitude": -104.69633758280864,
          "price": 13813.748880931065,
          "state": "CO"
         },
         {
          "id": 5858,
          "latitude": 41.5231875508699,
          "longitude": -73.0278143735051,
          "price": 10271.276032775691,
          "state": "CT"
         },
         {
          "id": 2638,
          "latitude": 38.7782978013646,
          "longitude": -77.33439423805945,
          "price": 9448.044351781653,
          "state": "DC"
         },
         {
          "id": 1241,
          "latitude": 39.63226478646252,
          "longitude": -75.34688565672846,
          "price": 11447.54230459307,
          "state": "DE"
         },
         {
          "id": 31285,
          "latitude": 28.569941013584064,
          "longitude": -82.21644408789946,
          "price": 11412.861946619785,
          "state": "FL"
         },
         {
          "id": 6272,
          "latitude": 33.295957142856686,
          "longitude": -83.77646399234762,
          "price": 10699.551020408164,
          "state": "GA"
         },
         {
          "id": 2628,
          "latitude": 21.23823211567737,
          "longitude": -157.05713614916158,
          "price": 13810.567351598174,
          "state": "HI"
         },
         {
          "id": 9869,
          "latitude": 41.80248584355033,
          "longitude": -94.03939838889426,
          "price": 11520.780322221097,
          "state": "IA"
         },
         {
          "id": 8909,
          "latitude": 45.62186470984521,
          "longitude": -116.43263031428933,
          "price": 15256.633179930408,
          "state": "ID"
         },
         {
          "id": 10288,
          "latitude": 40.26179670295478,
          "longitude": -89.30801520217511,
          "price": 10091.219673405909,
          "state": "IL"
         },
         {
          "id": 6234,
          "latitude": 40.12673775264634,
          "longitude": -86.03711243182589,
          "price": 11291.211742059673,
          "state": "IN"
         },
         {
          "id": 6242,
          "latitude": 38.22813531688468,
          "longitude": -95.4895708586993,
          "price": 13698.95546299263,
          "state": "KS"
         },
         {
          "id": 5187,
          "latitude": 37.939299248120534,
          "longitude": -85.10192668209089,
          "price": 12152.588201272412,
          "state": "KY"
         },
         {
          "id": 3879,
          "latitude": 30.735531760763052,
          "longitude": -91.23941835524664,
          "price": 9862.625676720805,
          "state": "LA"
         },
         {
          "id": 8462,
          "latitude": 42.178044953910934,
          "longitude": -71.71313265185643,
          "price": 11080.543606712361,
          "state": "MA"
         },
         {
          "id": 4605,
          "latitude": 38.97968247556984,
          "longitude": -76.96147057546175,
          "price": 9913.053854505972,
          "state": "MD"
         },
         {
          "id": 2586,
          "latitude": 43.47657788089761,
          "longitude": -70.74251867749435,
          "price": 11362.162412993039,
          "state": "ME"
         },
         {
          "id": 18703,
          "latitude": 42.93824554184023,
          "longitude": -84.51231877239249,
          "price": 11127.715927926001,
          "state": "MI"
         },
         {
          "id": 8806,
          "latitude": 45.49675999432191,
          "longitude": -94.01634784237851,
          "price": 12097.885191914604,
          "state": "MN"
         },
         {
          "id": 5953,
          "latitude": 37.835016615152874,
          "longitude": -93.06032262724698,
          "price": 12167.22005711406,
          "state": "MO"
         },
         {
          "id": 2228,
          "latitude": 32.55265991472163,
          "longitude": -88.79682253141938,
          "price": 12851.184021543986,
          "state": "MS"
         },
         {
          "id": 6996,
          "latitude": 46.91536282161218,
          "longitude": -113.72562412421217,
          "price": 18280.795454545456,
          "state": "MT"
         },
         {
          "id": 15681,
          "latitude": 35.47250978764035,
          "longitude": -79.99913751673942,
          "price": 10884.533384350489,
          "state": "NC"
         },
         {
          "id": 726,
          "latitude": 44.845354407713685,
          "longitude": -99.46937865013774,
          "price": 17101.177685950413,
          "state": "ND"
         },
         {
          "id": 2323,
          "latitude": 40.93694330606998,
          "longitude": -97.05928222126745,
          "price": 14988.217391304348,
          "state": "NE"
         },
         {
          "id": 2607,
          "latitude": 42.96943398542405,
          "longitude": -71.45472846183364,
          "price": 11392.322593018796,
          "state": "NH"
         },
         {
          "id": 9107,
          "latitude": 40.33386962446398,
          "longitude": -74.58722642363088,
          "price": 10019.791259470736,
          "state": "NJ"
         },
         {
          "id": 3643,
          "latitude": 35.07902860279967,
          "longitude": -106.06963511391749,
          "price": 11829.02607740873,
          "state": "NM"
         },
         {
          "id": 2676,
          "latitude": 36.11132410313925,
          "longitude": -115.14409204035887,
          "price": 12522.534005979072,
          "state": "NV"
         },
         {
          "id": 19524,
          "latitude": 42.13324773919411,
          "longitude": -75.45647381274387,
          "price": 10567.789489858635,
          "state": "NY"
         },
         {
          "id": 17114,
          "latitude": 40.501174938646294,
          "longitude": -82.82539736473154,
          "price": 9590.175587238518,
          "state": "OH"
         },
         {
          "id": 5688,
          "latitude": 35.54957575597732,
          "longitude": -96.70864131505061,
          "price": 12106.973101265823,
          "state": "OK"
         },
         {
          "id": 16964,
          "latitude": 44.58592072624339,
          "longitude": -122.55932380688228,
          "price": 12256.369075689696,
          "state": "OR"
         },
         {
          "id": 13704,
          "latitude": 40.44891567607982,
          "longitude": -77.11611587857503,
          "price": 10067.84252772913,
          "state": "PA"
         },
         {
          "id": 2645,
          "latitude": 41.86009345935726,
          "longitude": -71.52301546313772,
          "price": 11841.93459357278,
          "state": "RI"
         },
         {
          "id": 7215,
          "latitude": 34.12926309078261,
          "longitude": -81.07929865557836,
          "price": 12598.028135828135,
          "state": "SC"
         },
         {
          "id": 2036,
          "latitude": 43.73182652259331,
          "longitude": -98.43252883104132,
          "price": 13853.821218074656,
          "state": "SD"
         },
         {
          "id": 11867,
          "latitude": 35.544950684249955,
          "longitude": -86.16553873514745,
          "price": 13632.777281537035,
          "state": "TN"
         },
         {
          "id": 25930,
          "latitude": 30.776174223292433,
          "longitude": -98.6059632143853,
          "price": 13395.943270343232,
          "state": "TX"
         },
         {
          "id": 1390,
          "latitude": 38.269047374100786,
          "longitude": -111.61674719424407,
          "price": 17746.010071942444,
          "state": "UT"
         },
         {
          "id": 10850,
          "latitude": 37.58041436405471,
          "longitude": -77.9220551612895,
          "price": 9889.220092165899,
          "state": "VA"
         },
         {
          "id": 2557,
          "latitude": 43.81256800938569,
          "longitude": -72.86074317559617,
          "price": 13604.419241298396,
          "state": "VT"
         },
         {
          "id": 13698,
          "latitude": 47.319296459337195,
          "longitude": -120.61974531245708,
          "price": 15945.37662432472,
          "state": "WA"
         },
         {
          "id": 13163,
          "latitude": 43.57813114031733,
          "longitude": -88.94196541137903,
          "price": 11277.791612854213,
          "state": "WI"
         },
         {
          "id": 1435,
          "latitude": 38.93417317073177,
          "longitude": -80.35382425087103,
          "price": 7638.900348432056,
          "state": "WV"
         },
         {
          "id": 936,
          "latitude": 41.28973728632474,
          "longitude": -105.5307786324792,
          "price": 16413.845085470086,
          "state": "WY"
         }
        ]
       },
       "layer": [
        {
         "data": {
          "format": {
           "feature": "states",
           "type": "topojson"
          },
          "url": "https://vega.github.io/vega-datasets/data/us-10m.json"
         },
         "height": 300,
         "mark": {
          "fill": "lightgray",
          "stroke": "white",
          "type": "geoshape"
         },
         "projection": {
          "type": "albersUsa"
         },
         "width": 500
        },
        {
         "data": {
          "name": "data-d0cd5e00b16420c6d6091991cf7d4da4"
         },
         "encoding": {
          "color": {
           "value": "steelblue"
          },
          "latitude": {
           "field": "latitude",
           "type": "quantitative"
          },
          "longitude": {
           "field": "longitude",
           "type": "quantitative"
          },
          "size": {
           "field": "count",
           "title": "Average market price per state",
           "type": "quantitative"
          },
          "tooltip": [
           {
            "field": "state",
            "title": "state",
            "type": "nominal"
           },
           {
            "field": "count",
            "format": "$,.2f",
            "title": "Price",
            "type": "quantitative"
           }
          ]
         },
         "mark": "circle",
         "title": "Average market price per state",
         "transform": [
          {
           "aggregate": [
            {
             "as": "latitude",
             "field": "latitude",
             "op": "mean"
            },
            {
             "as": "longitude",
             "field": "longitude",
             "op": "mean"
            },
            {
             "as": "count",
             "field": "price",
             "op": "mean"
            }
           ],
           "groupby": [
            "state"
           ]
          }
         ]
        }
       ]
      },
      "image/png": "[encoded data removed]",
      "text/plain": [
       "<VegaLite 3 object>\n",
       "\n",
       "If you see this message, it means the renderer has not been properly enabled\n",
       "for the frontend that you are using. For more information, see\n",
       "https://altair-viz.github.io/user_guide/troubleshooting.html\n"
      ]
     },
     "execution_count": 76,
     "metadata": {},
     "output_type": "execute_result"
    }
   ],
   "source": [
    "states = alt.topo_feature(data.us_10m.url, feature='states')\n",
    "\n",
    "# US states background\n",
    "background = alt.Chart(states).mark_geoshape(\n",
    "    fill='lightgray',\n",
    "    stroke='white'\n",
    ").properties(\n",
    "    width=500,\n",
    "    height=300\n",
    ").project('albersUsa')\n",
    "\n",
    "points = alt.Chart(vehicles_position).transform_aggregate(\n",
    "    latitude='mean(latitude)',\n",
    "    longitude='mean(longitude)',\n",
    "    count='mean(price)',\n",
    "    groupby=['state']\n",
    ").mark_circle().encode(\n",
    "    longitude='longitude:Q',\n",
    "    latitude='latitude:Q',\n",
    "    size=alt.Size('count:Q', title='Average market price per state'),\n",
    "    color=alt.value('steelblue'),\n",
    "    tooltip=[alt.Tooltip('state:N', title='state'), alt.Tooltip('count:Q', title='Price', format='$,.2f')]\n",
    ").properties(\n",
    "    title='Average market price per state'\n",
    ")\n",
    "background + points"
   ]
  },
  {
   "cell_type": "markdown",
   "metadata": {},
   "source": [
    "#### Market Price by Categorical Variables"
   ]
  },
  {
   "cell_type": "code",
   "execution_count": 42,
   "metadata": {},
   "outputs": [
    {
     "data": {
      "application/vnd.vegalite.v3+json": {
       "$schema": "https://vega.github.io/schema/vega-lite/v3.4.0.json",
       "config": {
        "mark": {
         "tooltip": null
        },
        "view": {
         "height": 300,
         "width": 400
        }
       },
       "data": {
        "name": "data-d2b565bc5dc5c07cc70cd891e12df8fd"
       },
       "datasets": {
        "data-021970770041102f8af46321e59ac378": [
         {
          "cylinders": "10 cylinders",
          "price": 11421.976381909548
         },
         {
          "cylinders": "12 cylinders",
          "price": 20253.223214285714
         },
         {
          "cylinders": "3 cylinders",
          "price": 9496.773033707865
         },
         {
          "cylinders": "4 cylinders",
          "price": 9201.335476329632
         },
         {
          "cylinders": "5 cylinders",
          "price": 6624.49372909699
         },
         {
          "cylinders": "6 cylinders",
          "price": 12295.477033254721
         },
         {
          "cylinders": "8 cylinders",
          "price": 15967.63801542759
         },
         {
          "cylinders": "No value",
          "price": 14182.360028503741
         },
         {
          "cylinders": "other",
          "price": 13955.399253731342
         }
        ],
        "data-03012d3dc292fdc10b901945621690b9": [
         {
          "price": 11745.603166936902,
          "type": "No value"
         },
         {
          "price": 13045.986610620183,
          "type": "SUV"
         },
         {
          "price": 16890.6323024055,
          "type": "bus"
         },
         {
          "price": 12909.031339031339,
          "type": "convertible"
         },
         {
          "price": 13189.032914959016,
          "type": "coupe"
         },
         {
          "price": 9109.881582639604,
          "type": "hatchback"
         },
         {
          "price": 8712.856184554974,
          "type": "mini-van"
         },
         {
          "price": 13754.36963190184,
          "type": "offroad"
         },
         {
          "price": 16652.490005765903,
          "type": "other"
         },
         {
          "price": 20046.07822651023,
          "type": "pickup"
         },
         {
          "price": 9271.153805559587,
          "type": "sedan"
         },
         {
          "price": 18429.01371916364,
          "type": "truck"
         },
         {
          "price": 13142.933824362606,
          "type": "van"
         },
         {
          "price": 11058.476076032335,
          "type": "wagon"
         }
        ],
        "data-69807982e62c1b21950bae27917bb395": [
         {
          "fuel": "No value",
          "price": 19994.081465778316
         },
         {
          "fuel": "diesel",
          "price": 23093.23207105563
         },
         {
          "fuel": "electric",
          "price": 15762.664335664336
         },
         {
          "fuel": "gas",
          "price": 11956.66011481601
         },
         {
          "fuel": "hybrid",
          "price": 10841.233625113191
         },
         {
          "fuel": "other",
          "price": 18164.468118323748
         }
        ],
        "data-757c7477d41c9a951354fcbee14b0693": [
         {
          "price": 17607.91096423017,
          "title_status": "No value"
         },
         {
          "price": 13168.852194258252,
          "title_status": "clean"
         },
         {
          "price": 18126.900485436894,
          "title_status": "lien"
         },
         {
          "price": 3786.1441947565545,
          "title_status": "missing"
         },
         {
          "price": 2150.4894736842107,
          "title_status": "parts only"
         },
         {
          "price": 10486.753940173689,
          "title_status": "rebuilt"
         },
         {
          "price": 8282.101881209046,
          "title_status": "salvage"
         }
        ],
        "data-bf03de7bc228b76befbb0c321f2dad30": [
         {
          "condition": "No value",
          "price": 15201.363877365397
         },
         {
          "condition": "excellent",
          "price": 12402.430978279519
         },
         {
          "condition": "fair",
          "price": 3025.354971724788
         },
         {
          "condition": "good",
          "price": 10214.475181655185
         },
         {
          "condition": "like new",
          "price": 14479.479923599321
         },
         {
          "condition": "new",
          "price": 16484.673863636363
         },
         {
          "condition": "salvage",
          "price": 3137.8530405405404
         }
        ],
        "data-c9eb308eea573ee8dcdde59efb9aa2df": [
         {
          "price": 14105.851282850845,
          "size": "No value"
         },
         {
          "price": 8455.145503928607,
          "size": "compact"
         },
         {
          "price": 12768.484221994697,
          "size": "full-size"
         },
         {
          "price": 9321.855820206478,
          "size": "mid-size"
         },
         {
          "price": 9804.687757038912,
          "size": "sub-compact"
         }
        ],
        "data-ce9f3794e5e88600f44ca4a121152bdb": [
         {
          "paint_color": "No value",
          "price": 12420.245572609208
         },
         {
          "paint_color": "black",
          "price": 14813.714815009
         },
         {
          "paint_color": "blue",
          "price": 11416.299996535838
         },
         {
          "paint_color": "brown",
          "price": 10939.204756822686
         },
         {
          "paint_color": "custom",
          "price": 13152.259891388674
         },
         {
          "paint_color": "green",
          "price": 9049.721905485874
         },
         {
          "paint_color": "grey",
          "price": 12168.71381913195
         },
         {
          "paint_color": "orange",
          "price": 14400.04726224784
         },
         {
          "paint_color": "purple",
          "price": 9775.627450980392
         },
         {
          "paint_color": "red",
          "price": 12764.723337779962
         },
         {
          "paint_color": "silver",
          "price": 11823.591385883077
         },
         {
          "paint_color": "white",
          "price": 15471.926143701057
         },
         {
          "paint_color": "yellow",
          "price": 12687.09216152019
         }
        ],
        "data-cf5ebc4ad76f4418f5a6a3901c68b8d9": [
         {
          "price": 15946.270588235295,
          "transmission": "No value"
         },
         {
          "price": 13124.636757247788,
          "transmission": "automatic"
         },
         {
          "price": 10787.40349283968,
          "transmission": "manual"
         },
         {
          "price": 17059.352854798308,
          "transmission": "other"
         }
        ],
        "data-d2b565bc5dc5c07cc70cd891e12df8fd": [
         {
          "manufacturer": "No value",
          "price": 13079.726038873994
         },
         {
          "manufacturer": "acura",
          "price": 9416.519219396807
         },
         {
          "manufacturer": "alfa-romeo",
          "price": 15970.193548387097
         },
         {
          "manufacturer": "aston-martin",
          "price": 41551.57142857143
         },
         {
          "manufacturer": "audi",
          "price": 13700.519886363636
         },
         {
          "manufacturer": "bmw",
          "price": 13168.065148924683
         },
         {
          "manufacturer": "buick",
          "price": 9436.81409759876
         },
         {
          "manufacturer": "cadillac",
          "price": 12797.440252617584
         },
         {
          "manufacturer": "chevrolet",
          "price": 13854.990969943998
         },
         {
          "manufacturer": "chrysler",
          "price": 8164.686785172937
         },
         {
          "manufacturer": "datsun",
          "price": 8590.65
         },
         {
          "manufacturer": "dodge",
          "price": 10989.157315154693
         },
         {
          "manufacturer": "ferrari",
          "price": 32265
         },
         {
          "manufacturer": "fiat",
          "price": 8979.032362459548
         },
         {
          "manufacturer": "ford",
          "price": 14647.575513566664
         },
         {
          "manufacturer": "gmc",
          "price": 17212.998240187713
         },
         {
          "manufacturer": "harley-davidson",
          "price": 14587.820359281437
         },
         {
          "manufacturer": "hennessey",
          "price": 47995
         },
         {
          "manufacturer": "honda",
          "price": 8798.626236238104
         },
         {
          "manufacturer": "hyundai",
          "price": 8997.746091700767
         },
         {
          "manufacturer": "infiniti",
          "price": 12651.442045093681
         },
         {
          "manufacturer": "jaguar",
          "price": 11663.67356321839
         },
         {
          "manufacturer": "jeep",
          "price": 14942.528981776999
         },
         {
          "manufacturer": "kia",
          "price": 9305.884570765662
         },
         {
          "manufacturer": "land rover",
          "price": 7304.958333333333
         },
         {
          "manufacturer": "lexus",
          "price": 12798.137897967012
         },
         {
          "manufacturer": "lincoln",
          "price": 10144.730782855118
         },
         {
          "manufacturer": "mazda",
          "price": 8263.598499061914
         },
         {
          "manufacturer": "mercedes-benz",
          "price": 16507.35015906681
         },
         {
          "manufacturer": "mercury",
          "price": 4109.627741935484
         },
         {
          "manufacturer": "mini",
          "price": 10434.965311653117
         },
         {
          "manufacturer": "mitsubishi",
          "price": 8911.581978021977
         },
         {
          "manufacturer": "morgan",
          "price": 26925
         },
         {
          "manufacturer": "nissan",
          "price": 10206.50491214812
         },
         {
          "manufacturer": "pontiac",
          "price": 5293.362732095491
         },
         {
          "manufacturer": "porche",
          "price": 7826.666666666667
         },
         {
          "manufacturer": "ram",
          "price": 21485.56076789159
         },
         {
          "manufacturer": "rover",
          "price": 17914.41632928475
         },
         {
          "manufacturer": "saturn",
          "price": 3533.829501915709
         },
         {
          "manufacturer": "subaru",
          "price": 11485.618396876436
         },
         {
          "manufacturer": "tesla",
          "price": 34478.45360824742
         },
         {
          "manufacturer": "toyota",
          "price": 12544.888115223197
         },
         {
          "manufacturer": "volkswagen",
          "price": 8863.37546860356
         },
         {
          "manufacturer": "volvo",
          "price": 10004.59696394687
         }
        ]
       },
       "vconcat": [
        {
         "hconcat": [
          {
           "encoding": {
            "x": {
             "field": "manufacturer",
             "type": "nominal"
            },
            "y": {
             "aggregate": "mean",
             "field": "price",
             "type": "quantitative"
            }
           },
           "height": 400,
           "mark": "bar",
           "title": "Mean market price by manufacturer",
           "width": 400
          }
         ]
        },
        {
         "data": {
          "name": "data-bf03de7bc228b76befbb0c321f2dad30"
         },
         "hconcat": [
          {
           "encoding": {
            "x": {
             "field": "condition",
             "type": "nominal"
            },
            "y": {
             "aggregate": "mean",
             "field": "price",
             "type": "quantitative"
            }
           },
           "height": 400,
           "mark": "bar",
           "title": "Mean market price by condition",
           "width": 400
          }
         ]
        },
        {
         "data": {
          "name": "data-021970770041102f8af46321e59ac378"
         },
         "hconcat": [
          {
           "encoding": {
            "x": {
             "field": "cylinders",
             "type": "nominal"
            },
            "y": {
             "aggregate": "mean",
             "field": "price",
             "type": "quantitative"
            }
           },
           "height": 400,
           "mark": "bar",
           "title": "Mean market price by cylinders",
           "width": 400
          }
         ]
        },
        {
         "data": {
          "name": "data-69807982e62c1b21950bae27917bb395"
         },
         "hconcat": [
          {
           "encoding": {
            "x": {
             "field": "fuel",
             "type": "nominal"
            },
            "y": {
             "aggregate": "mean",
             "field": "price",
             "type": "quantitative"
            }
           },
           "height": 400,
           "mark": "bar",
           "title": "Mean market price by fuel",
           "width": 400
          }
         ]
        },
        {
         "data": {
          "name": "data-757c7477d41c9a951354fcbee14b0693"
         },
         "hconcat": [
          {
           "encoding": {
            "x": {
             "field": "title_status",
             "type": "nominal"
            },
            "y": {
             "aggregate": "mean",
             "field": "price",
             "type": "quantitative"
            }
           },
           "height": 400,
           "mark": "bar",
           "title": "Mean market price by title_status",
           "width": 400
          }
         ]
        },
        {
         "data": {
          "name": "data-cf5ebc4ad76f4418f5a6a3901c68b8d9"
         },
         "hconcat": [
          {
           "encoding": {
            "x": {
             "field": "transmission",
             "type": "nominal"
            },
            "y": {
             "aggregate": "mean",
             "field": "price",
             "type": "quantitative"
            }
           },
           "height": 400,
           "mark": "bar",
           "title": "Mean market price by transmission",
           "width": 400
          }
         ]
        },
        {
         "data": {
          "name": "data-c9eb308eea573ee8dcdde59efb9aa2df"
         },
         "hconcat": [
          {
           "encoding": {
            "x": {
             "field": "size",
             "type": "nominal"
            },
            "y": {
             "aggregate": "mean",
             "field": "price",
             "type": "quantitative"
            }
           },
           "height": 400,
           "mark": "bar",
           "title": "Mean market price by size",
           "width": 400
          }
         ]
        },
        {
         "data": {
          "name": "data-03012d3dc292fdc10b901945621690b9"
         },
         "hconcat": [
          {
           "encoding": {
            "x": {
             "field": "type",
             "type": "nominal"
            },
            "y": {
             "aggregate": "mean",
             "field": "price",
             "type": "quantitative"
            }
           },
           "height": 400,
           "mark": "bar",
           "title": "Mean market price by type",
           "width": 400
          }
         ]
        },
        {
         "data": {
          "name": "data-ce9f3794e5e88600f44ca4a121152bdb"
         },
         "hconcat": [
          {
           "encoding": {
            "x": {
             "field": "paint_color",
             "type": "nominal"
            },
            "y": {
             "aggregate": "mean",
             "field": "price",
             "type": "quantitative"
            }
           },
           "height": 400,
           "mark": "bar",
           "title": "Mean market price by paint_color",
           "width": 400
          }
         ]
        }
       ]
      },
      "image/png": "[encoded data removed]",
      "text/plain": [
       "<VegaLite 3 object>\n",
       "\n",
       "If you see this message, it means the renderer has not been properly enabled\n",
       "for the frontend that you are using. For more information, see\n",
       "https://altair-viz.github.io/user_guide/troubleshooting.html\n"
      ]
     },
     "execution_count": 42,
     "metadata": {},
     "output_type": "execute_result"
    }
   ],
   "source": [
    "categorical_features = ['manufacturer', 'condition', 'cylinders', 'fuel',\n",
    "                        'title_status', 'transmission', 'size', 'type', 'paint_color']\n",
    "\n",
    "categorical_encodings = ['manufacturer', 'condition', 'cylinders', 'fuel',\n",
    "                        'title_status', 'transmission', 'size', 'type', 'paint_color']\n",
    "\n",
    "base = alt.Chart().mark_bar().encode(\n",
    "    alt.Y('mean(price):Q')\n",
    ").properties(\n",
    "    width=400,\n",
    "    height=400\n",
    ")\n",
    "\n",
    "chart = alt.vconcat()\n",
    "for i in range(len(categorical_features)):\n",
    "        vehicles_graph = vehicles[['price', categorical_features[i]]].groupby(by = categorical_features[i])\\\n",
    "                                                                     .mean()\\\n",
    "                                                                     .reset_index()\n",
    "        row = alt.hconcat(data = vehicles_graph)\n",
    "        row |= base.encode(\n",
    "            x = alt.X(categorical_encodings[i])).properties(title = f'Mean market price by {categorical_features[i]}')\n",
    "        \n",
    "        chart &= row\n",
    "        \n",
    "chart    \n"
   ]
  },
  {
   "cell_type": "code",
   "execution_count": null,
   "metadata": {},
   "outputs": [],
   "source": []
  }
 ],
 "metadata": {
  "kernelspec": {
   "display_name": "Python 3",
   "language": "python",
   "name": "python3"
  },
  "language_info": {
   "codemirror_mode": {
    "name": "ipython",
    "version": 3
   },
   "file_extension": ".py",
   "mimetype": "text/x-python",
   "name": "python",
   "nbconvert_exporter": "python",
   "pygments_lexer": "ipython3",
   "version": "3.7.3"
  }
 },
 "nbformat": 4,
 "nbformat_minor": 4
}
